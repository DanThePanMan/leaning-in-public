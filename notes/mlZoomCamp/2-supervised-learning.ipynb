{
 "cells": [
  {
   "cell_type": "markdown",
   "id": "fc4aaae0",
   "metadata": {},
   "source": [
    "# Supervised machine learning\n",
    "\n",
    "We supervise a model by showing it different examples. The input and the result that is concluded.\n",
    "\n",
    "This makes it able to generate patterns. and generate a result based on the input.\n",
    "\n",
    "For the email example:\n",
    "the features can form a feature matrix, with rows being each email and column bieng each criteria. The target is a 1 demention array.\n",
    "<br>\n",
    "[1,1,0,0,1] 1 <br>\n",
    "[0,0,1,0,1] 0 <br>\n",
    "[1,0,1,1,1] 1 <br>\n",
    "\n",
    "when we train the modek. we need to apply a funciton g (the model) to the matrix.\n",
    "<br>\n",
    "g(X) = y    (approximately)\n",
    "<br>\n",
    "to come up with the function g, we train the model to take in X and hopefully get y.\n",
    "<br>\n",
    "in the case of spam detection, the outputs are the predictonis\n",
    "\n",
    "**regression** is one of the ways you can do it, for example price prediction. It outputs a number.\n",
    "\n",
    "**classification**\n",
    "for classification you output what something is, for example clasifying if the email is spam.\n",
    "\n",
    "there can be multiclass classification that puts something into different categories. Like auto tags.\n",
    "\n",
    "if its just yes or now, its binary classification.\n",
    "\n",
    "**ranking**\n",
    "not covered in this course, but basically ordering things. For example reccomended products on an ecommerce site, or search results.\n",
    "\n",
    "\n",
    "\n"
   ]
  },
  {
   "cell_type": "markdown",
   "id": "6ed599ee",
   "metadata": {},
   "source": [
    "# CRISP-DM\n",
    "\n"
   ]
  }
 ],
 "metadata": {
  "language_info": {
   "name": "python"
  }
 },
 "nbformat": 4,
 "nbformat_minor": 5
}
