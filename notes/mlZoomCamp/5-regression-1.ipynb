{
 "cells": [
  {
   "cell_type": "markdown",
   "id": "346dcfbe",
   "metadata": {},
   "source": [
    "# Hands On Project\n",
    "\n",
    "car price prediction model based on feature.\n",
    "\n",
    "We will use the dataset from kaggle\n",
    "https://www.kaggle.com/datasets/CooperUnion/cardataset\n",
    "\n",
    "<br>\n",
    "Here is the pan:\n",
    "- Prepare data and do EDA\n",
    "- Use linear regression\n",
    "- Understand the internals of linear regression\n",
    "- Evaluate with RMSE\n",
    "- Feature engineering\n",
    "- Regularization\n",
    "- Use the model\n"
   ]
  },
  {
   "cell_type": "markdown",
   "id": "6c83332d",
   "metadata": {},
   "source": [
    "## 1: Data Prep\n",
    "\n"
   ]
  },
  {
   "cell_type": "code",
   "execution_count": null,
   "id": "cb19dd6a",
   "metadata": {},
   "outputs": [],
   "source": [
    "#imports\n",
    "import pandas as pd"
   ]
  },
  {
   "cell_type": "code",
   "execution_count": null,
   "id": "77141f6b",
   "metadata": {},
   "outputs": [],
   "source": [
    "# To load data form a csv use pd.read_csv()\n",
    "\n",
    "\n",
    "df = pd.read_csv('data/car-price.csv')\n",
    "df.head()"
   ]
  },
  {
   "cell_type": "markdown",
   "id": "ac33c88d",
   "metadata": {},
   "source": [
    "notice how there are some inconsistencies for the column names, some have upper case some have under scores. Lets make them lower case and mak ethem lower case"
   ]
  },
  {
   "cell_type": "code",
   "execution_count": null,
   "id": "5fb8e043",
   "metadata": {},
   "outputs": [],
   "source": [
    "df.columns"
   ]
  },
  {
   "cell_type": "code",
   "execution_count": null,
   "id": "b4d11454",
   "metadata": {},
   "outputs": [],
   "source": [
    "df.columns = df.columns.str.lower().str.replace(' ','_')\n",
    "df.head()"
   ]
  },
  {
   "cell_type": "markdown",
   "id": "19302df1",
   "metadata": {},
   "source": [
    "Now we normalize the values. First we need to find the non string columns"
   ]
  },
  {
   "cell_type": "code",
   "execution_count": null,
   "id": "328821d6",
   "metadata": {},
   "outputs": [],
   "source": [
    "# get all types\n",
    "df.dtypes\n",
    "\n",
    "# we only care about the objects"
   ]
  },
  {
   "cell_type": "code",
   "execution_count": null,
   "id": "466d5318",
   "metadata": {},
   "outputs": [],
   "source": [
    "strings = list(df.dtypes[df.dtypes == 'object'].index)\n",
    "# care about the index, since values are all object\\\n",
    "strings"
   ]
  },
  {
   "cell_type": "code",
   "execution_count": null,
   "id": "f9709026",
   "metadata": {},
   "outputs": [],
   "source": [
    "# loop over to clean them up\n",
    "for col in strings:\n",
    "    df[col] = df[col].str.lower().str.replace(' ','_')\n",
    "    \n",
    "df.head()"
   ]
  },
  {
   "cell_type": "markdown",
   "id": "e3499cb3",
   "metadata": {},
   "source": [
    "## Exploratory Data Analysis"
   ]
  },
  {
   "cell_type": "markdown",
   "id": "32387ec2",
   "metadata": {},
   "source": []
  }
 ],
 "metadata": {
  "kernelspec": {
   "display_name": ".venv",
   "language": "python",
   "name": "python3"
  },
  "language_info": {
   "codemirror_mode": {
    "name": "ipython",
    "version": 3
   },
   "file_extension": ".py",
   "mimetype": "text/x-python",
   "name": "python",
   "nbconvert_exporter": "python",
   "pygments_lexer": "ipython3",
   "version": "3.12.1"
  }
 },
 "nbformat": 4,
 "nbformat_minor": 5
}
