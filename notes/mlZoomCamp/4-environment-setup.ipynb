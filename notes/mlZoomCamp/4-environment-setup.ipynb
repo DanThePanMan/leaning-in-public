{
 "cells": [
  {
   "cell_type": "markdown",
   "id": "750551f3",
   "metadata": {},
   "source": [
    "# environment set up. \n",
    "\n",
    "You need:\n",
    "\n",
    "Python 3.11 (note that videos use 3.8)\n",
    "NumPy, Pandas and Scikit-Learn (latest available versions)\n",
    "Matplotlib and Seaborn\n",
    "Jupyter notebooks\n",
    "\n",
    "I just did it with venv but they wanted conda\n"
   ]
  },
  {
   "cell_type": "markdown",
   "id": "f1e1c52a",
   "metadata": {},
   "source": [
    "# NumPy\n",
    "\n",
    "\n"
   ]
  },
  {
   "cell_type": "code",
   "execution_count": null,
   "id": "717e880e",
   "metadata": {},
   "outputs": [],
   "source": [
    "# import\n",
    "import numpy as np"
   ]
  },
  {
   "cell_type": "markdown",
   "id": "63cfaca3",
   "metadata": {},
   "source": [
    "## Arrays"
   ]
  },
  {
   "cell_type": "code",
   "execution_count": null,
   "id": "95ca7687",
   "metadata": {},
   "outputs": [],
   "source": [
    "\n",
    "a = np.zeros(5)\n",
    "b = np.ones(5)\n",
    "c = np.full(10,2.5)\n",
    "# convert a puthon list to array\n",
    "d = np.array([1,2,3,4,5])\n",
    "\n",
    "print(\"a:\", a)\n",
    "print(\"b:\", b)\n",
    "print(\"c:\", c)\n",
    "print(\"d:\", d)\n",
    "\n",
    "# to access or modify an element, just do array[index]\n",
    "\n",
    "e = np.arange(2,10)\n",
    "print(\"e\", e)\n",
    "\n",
    "f = np.linspace(0, 100, 11)\n",
    "# this fills everything from 0 to 100 iwith 11 indicies"
   ]
  },
  {
   "cell_type": "markdown",
   "id": "23a0535e",
   "metadata": {},
   "source": [
    "## multidementional arrays"
   ]
  },
  {
   "cell_type": "code",
   "execution_count": null,
   "id": "eef9da08",
   "metadata": {},
   "outputs": [],
   "source": [
    "a = np.zeros((5,2))\n",
    "# 5 rows 2 columns\n",
    "print(\"a:\", a)\n",
    "\n",
    "b = np.array([\n",
    "    [1,2,3],\n",
    "    [4,5,6],\n",
    "    [7,8,9]\n",
    "])\n",
    "print(\"b:\", b)\n",
    "\n",
    "# to access, do matrix[row, column]\n",
    "# if we pass one it is matrix[row]\n",
    "# to access a column, do matrix[:,column]\n",
    "\n",
    "# all of the above also works with assigning and modifying "
   ]
  },
  {
   "cell_type": "markdown",
   "id": "1f2dfa9b",
   "metadata": {},
   "source": [
    "## randomly generated arrays"
   ]
  },
  {
   "cell_type": "code",
   "execution_count": null,
   "id": "092453e1",
   "metadata": {},
   "outputs": [],
   "source": [
    "a = np.random.rand(5,2)\n",
    "print(\"a:\", a)\n",
    "\n",
    "# we can set the random seed with np.random.seed(number)\n",
    "\n",
    "# standard normal distribution\n",
    "b = np.random.randn(5,2)\n",
    "print(\"b:\", b)\n",
    "\n",
    "# only integer\n",
    "c = np.random.randint(low=0, high=100, size=(5, 2))\n",
    "print(\"c:\", c)\n"
   ]
  },
  {
   "cell_type": "markdown",
   "id": "31814d4f",
   "metadata": {},
   "source": [
    "## element-wise operations"
   ]
  },
  {
   "cell_type": "code",
   "execution_count": null,
   "id": "dd29fd9a",
   "metadata": {},
   "outputs": [],
   "source": [
    "a = np.arange(5)\n",
    "# what if we want to do something to all elem\n",
    "a = a*2\n",
    "print(\"a:\", a)\n",
    "\n",
    "# you can chain operations too\n",
    "\n",
    "# we can do sum of two as well, so a+b. they need to have the same shape\n",
    "\n"
   ]
  },
  {
   "cell_type": "markdown",
   "id": "ce4d07bc",
   "metadata": {},
   "source": [
    "## Comparison Operations"
   ]
  },
  {
   "cell_type": "code",
   "execution_count": null,
   "id": "30e66e54",
   "metadata": {},
   "outputs": [],
   "source": [
    " print(\"a\", a)\n",
    " print(a >= 2)\n",
    " print(a > a//2)\n",
    " \n",
    "#  or a > b \n",
    "\n",
    "# seeing which elements are actually bigger instead of just t or f: a[a>b]"
   ]
  },
  {
   "cell_type": "markdown",
   "id": "c58ba487",
   "metadata": {},
   "source": [
    "## Summarizing operations\n"
   ]
  },
  {
   "cell_type": "code",
   "execution_count": null,
   "id": "f4d53aa6",
   "metadata": {},
   "outputs": [],
   "source": [
    "a.min() # smallest number\n",
    "a.sum()\n",
    "a.mean()\n",
    "a.std()\n",
    "\n",
    "# works with 3d as well"
   ]
  },
  {
   "cell_type": "markdown",
   "id": "8b9a5ea8",
   "metadata": {},
   "source": [
    "___"
   ]
  },
  {
   "cell_type": "markdown",
   "id": "7dc486aa",
   "metadata": {},
   "source": [
    "# Lin alg review\n",
    "\n",
    "dot product: multiply each seperately\n",
    "\n",
    "[2 4 5 6] * [1 0 0 2] = 1*2 + 4*0 + 5*0 + 6*2 = 14\n",
    "```\n",
    "def vector_vecto_multiplication(u,v):\n",
    "    assert u.shape[0] = v.shape[0]\n",
    "    n = u.shape[0]\n",
    "    sum = 0\n",
    "    for i in range(u):\n",
    "        sum += u[i] * v[i]\n",
    "\n",
    "```\n",
    "\n",
    "if we are multiplying a matrix with a vector it is the same as matrix matrix multiplication\n",
    "\n",
    "we can use a.dot(b) to do dot product\n",
    "\n",
    "## identity matrix\n",
    "square matrix with 1 as diagnal and 0 everywhere else\n",
    "\n",
    "1 0 0 0 <br>\n",
    "0 1 0 0  <br>\n",
    "0 0 1 0 <br>\n",
    "0 0 0 1 <br>\n",
    "\n",
    "if you multiple a matrix by the identity matrix you get the same matrix\n",
    "\n",
    "in np it is `np.eye(size)`\n",
    "\n",
    "## matrix inverse\n",
    "A^-1\n",
    "\n",
    "it is a matrix where if we multiply by A, we get I\n",
    "\n",
    "we get it by `np.linalg.inv(matrix)`"
   ]
  },
  {
   "cell_type": "code",
   "execution_count": null,
   "id": "efd53528",
   "metadata": {},
   "outputs": [],
   "source": [
    "np.eye(10)"
   ]
  },
  {
   "cell_type": "markdown",
   "id": "d439fcd7",
   "metadata": {},
   "source": [
    "___"
   ]
  },
  {
   "cell_type": "markdown",
   "id": "92888b24",
   "metadata": {},
   "source": [
    "# Pandas"
   ]
  },
  {
   "cell_type": "code",
   "execution_count": null,
   "id": "a38119b6",
   "metadata": {},
   "outputs": [],
   "source": [
    "#pandas uses dataframes, basically a table grouped by rows.\n",
    "\n",
    "# use pd.DataFrame(data, columns=myColumns) makes a df\n",
    "#we cam also do the same with a python dictionary,pd.DataFrame(dictionary)\n",
    "import pandas as pd\n",
    "\n",
    "data = [\n",
    "    [1, 'Toyota Camry', 2020, 'Sedan', 24000],\n",
    "    [2, 'Honda Civic', 2019, 'Sedan', 22000],\n",
    "    [3, 'Ford F-150', 2021, 'Truck', 35000],\n",
    "    [4, 'Tesla Model 3', 2022, 'Sedan', 40000],\n",
    "    [5, 'Chevrolet Tahoe', 2018, 'SUV', 37000],\n",
    "    [6, 'BMW X5', 2021, 'SUV', 60000],\n",
    "    [7, 'Mazda CX-5', 2020, 'SUV', 28000],\n",
    "    [8, 'Audi A4', 2019, 'Sedan', 37000]\n",
    "]\n",
    "columns = ['ID', 'Model', 'Year', 'Type', 'Price']\n",
    "df = pd.DataFrame(data, columns=columns)\n",
    "df"
   ]
  },
  {
   "cell_type": "code",
   "execution_count": null,
   "id": "12a6e629",
   "metadata": {},
   "outputs": [],
   "source": [
    "#use head to get the first few elem\n",
    "\n",
    "df.head(n=2)"
   ]
  },
  {
   "cell_type": "code",
   "execution_count": null,
   "id": "8d67017c",
   "metadata": {},
   "outputs": [],
   "source": [
    "# every column is a series, to make a series, do df.column\n",
    "\n",
    "df.Model # you can also do df.['Model']"
   ]
  },
  {
   "cell_type": "code",
   "execution_count": null,
   "id": "30ae86c0",
   "metadata": {},
   "outputs": [],
   "source": [
    "# multiple col of the same time:\n",
    "df[['Model', 'Year', 'Price']]"
   ]
  },
  {
   "cell_type": "code",
   "execution_count": null,
   "id": "88bfdcd7",
   "metadata": {},
   "outputs": [],
   "source": [
    "# add new column\n",
    "\n",
    "df['title'] = [\"clean\", \"clean\", \"salvage\", \"clean\", \"clean\", \"salvage\", \"clean\", \"clean\"]\n",
    "df"
   ]
  },
  {
   "cell_type": "markdown",
   "id": "d9dfa86b",
   "metadata": {},
   "source": [
    "# Index\n",
    " \n",
    "column number, get it by `df.index` or `df.columnName.index`\n",
    "\n",
    "to get something from an index, do `df.loc[1]` to get the row 1"
   ]
  },
  {
   "cell_type": "code",
   "execution_count": null,
   "id": "ee79c202",
   "metadata": {},
   "outputs": [],
   "source": [
    "df.loc[[1,2]]\n"
   ]
  },
  {
   "cell_type": "code",
   "execution_count": null,
   "id": "4922196a",
   "metadata": {},
   "outputs": [],
   "source": [
    "# you can modify the index to be non numbers:\n",
    "df.index = ['a','b','c','d','e','f','g','h']\n",
    "df"
   ]
  },
  {
   "cell_type": "code",
   "execution_count": null,
   "id": "fba34986",
   "metadata": {},
   "outputs": [],
   "source": [
    "# we can still use the positional index using iloc\n",
    "\n",
    "df.iloc[[1,2,5]]"
   ]
  },
  {
   "cell_type": "code",
   "execution_count": null,
   "id": "d46b3310",
   "metadata": {},
   "outputs": [],
   "source": [
    "# reset index\n",
    "df.reset_index()\n",
    "# if you do reset_index(drop = True) it removes the index column"
   ]
  },
  {
   "cell_type": "markdown",
   "id": "51925f16",
   "metadata": {},
   "source": [
    "## element wise operations\n"
   ]
  },
  {
   "cell_type": "code",
   "execution_count": null,
   "id": "6a2ad29b",
   "metadata": {},
   "outputs": [],
   "source": [
    "df['Price'] / 100"
   ]
  },
  {
   "cell_type": "code",
   "execution_count": null,
   "id": "f96ed93d",
   "metadata": {},
   "outputs": [],
   "source": [
    "df['Price'] > 30000"
   ]
  },
  {
   "cell_type": "markdown",
   "id": "1a4210b8",
   "metadata": {},
   "source": [
    "## filtering"
   ]
  },
  {
   "cell_type": "code",
   "execution_count": null,
   "id": "1d6e891c",
   "metadata": {},
   "outputs": [],
   "source": [
    "# df[condition]\n",
    "\n",
    "df[\n",
    "    df['Price'] >= 30000\n",
    "]"
   ]
  },
  {
   "cell_type": "markdown",
   "id": "26efd0a0",
   "metadata": {},
   "source": [
    "## String operations"
   ]
  },
  {
   "cell_type": "code",
   "execution_count": null,
   "id": "f5ac8dbb",
   "metadata": {},
   "outputs": [],
   "source": [
    "\n",
    "# lets make all strings lower case\n",
    "\n",
    "df['Model'].str.lower()"
   ]
  },
  {
   "cell_type": "code",
   "execution_count": null,
   "id": "b7cc5037",
   "metadata": {},
   "outputs": [],
   "source": [
    "\n",
    "df['Model'].replace(' ', '_')\n",
    "\n",
    "# we can then overwrite by doing df[column] = df[column].str.replace(' ','_')"
   ]
  },
  {
   "cell_type": "markdown",
   "id": "596a1367",
   "metadata": {},
   "source": [
    "## Summarizing"
   ]
  },
  {
   "cell_type": "code",
   "execution_count": null,
   "id": "988b220c",
   "metadata": {},
   "outputs": [],
   "source": [
    "# df.column.min()\n",
    "# you can also do max, mean, describe\n",
    "\n",
    "df['Price'].describe()\n",
    "# you can do df.describe() too\n",
    "\n",
    "# you can also do describe().round(2) to round it"
   ]
  },
  {
   "cell_type": "code",
   "execution_count": null,
   "id": "be686fed",
   "metadata": {},
   "outputs": [],
   "source": [
    "df.nunique()"
   ]
  },
  {
   "cell_type": "markdown",
   "id": "a7e37119",
   "metadata": {},
   "source": [
    "## missing values"
   ]
  },
  {
   "cell_type": "code",
   "execution_count": null,
   "id": "86617af5",
   "metadata": {},
   "outputs": [],
   "source": [
    "df.isnull()\n",
    "\n",
    "# returns true on the cell with a null\n",
    "\n",
    "df.isnull().sum() \n",
    "# returns how much is missing per column"
   ]
  },
  {
   "cell_type": "markdown",
   "id": "3d4eac0a",
   "metadata": {},
   "source": [
    "## group by"
   ]
  },
  {
   "cell_type": "code",
   "execution_count": null,
   "id": "30de88b0",
   "metadata": {},
   "outputs": [],
   "source": [
    "# lets say we want to do: SELECT Title, avg(Price) FROM cars GROUP BY Title\n",
    "\n",
    "df.groupby('title').Price.mean()"
   ]
  },
  {
   "cell_type": "markdown",
   "id": "31eb400c",
   "metadata": {},
   "source": [
    "## get numpy arrays or dict"
   ]
  },
  {
   "cell_type": "code",
   "execution_count": null,
   "id": "f3e02b1c",
   "metadata": {},
   "outputs": [],
   "source": [
    "df.Price.values"
   ]
  },
  {
   "cell_type": "code",
   "execution_count": null,
   "id": "80860e7a",
   "metadata": {},
   "outputs": [],
   "source": [
    "df.to_dict(orient=\"records\")"
   ]
  }
 ],
 "metadata": {
  "kernelspec": {
   "display_name": ".venv",
   "language": "python",
   "name": "python3"
  },
  "language_info": {
   "codemirror_mode": {
    "name": "ipython",
    "version": 3
   },
   "file_extension": ".py",
   "mimetype": "text/x-python",
   "name": "python",
   "nbconvert_exporter": "python",
   "pygments_lexer": "ipython3",
   "version": "3.12.1"
  }
 },
 "nbformat": 4,
 "nbformat_minor": 5
}
