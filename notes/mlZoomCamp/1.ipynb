{
 "cells": [
  {
   "cell_type": "markdown",
   "id": "0f5ceddd",
   "metadata": {},
   "source": [
    "## introduction to machine learning\n",
    "\n",
    "What is macine learning?\n",
    "The introduction starts with an explanation about what ML really is. You can imagine a task that is normally done by an expert, like getting a good price for selling a car. The expert takes the data about the car and combines all the characteristics to get his opinion about the fair price. What he does is, he extracts patterns from the data.If a human is able to do this, so a model can do the same.\n",
    "\n",
    "**Machine Learning (ML)** is about using features and the target information to train a model and use this model to predict unknown object targets. In other words it is a process of extracting patterns from data (features+target).\n",
    "\n",
    "To understand this, you have to distinguish between the terms feature, target and model.\n",
    "\n",
    "**Features** means what we know about an object. In this example what we know about the characteristics of a car. A feature is a characteristic of an object in form of a number, string, or other more complex form (e.g. location information, …)\n",
    "\n",
    "**Target** is what we want to predict. Other courses / sources also use the term label for this purpose.That means, in training, you talk about a labeled data set because you know the target. In this example, many labeled data sets of cars with prices are used to predict a label for an unknown data set of another car.\n",
    "\n",
    "A **model** is the output artefact of a training that contains all the patterns learned from the trained examples. This output can be used later to make a prediction (try to output the target variable) based on features of an unknown object and the model itself.\n",
    "\n",
    "## training a model\n",
    "\n",
    "this is the process of extracting pattern from given data. Like this\n",
    "\n",
    "features + target -> model\n",
    "\n",
    "\n",
    "## using a model\n",
    "now that themodel is trained, we only have to provide the features\n",
    "\n",
    "features --- model --- predictions"
   ]
  },
  {
   "cell_type": "markdown",
   "id": "d494bc40",
   "metadata": {},
   "source": [
    "## ML vs rules\n",
    "\n",
    "we will use examples for spam detection. Rule based vs ML\n",
    "\n",
    "### rule based:\n",
    "define some set patterns, for example the email address has \"promotions\" in it, then filter based on the rules set.\n",
    "\n",
    "Some downsides are the fact that there can be many variations and it is difficult to define a comprehensive set of rules to do this.\n",
    "\n",
    "### ML based\n",
    "1. get data\n",
    "2. define and calculate features\n",
    "3. train and use the model\n",
    "\n",
    "1: First we can use the spam folder to gather data on what emails are spam. \n",
    "\n",
    "2: Then we can define some features, like length of body, sender name, description, etc. This is similar to the rule based one. so what is the difference?\n",
    " -> we start by using rules as features, and then we can do a thing where we can see how \"scammy\" something is by seeing how many of the boxes (features) it ticks.\n",
    "\n",
    "this gets us two things, the check list which is the features, and the manual labling result as the target.\n",
    "\n",
    "for exmaple this has the word deposit, the domain promotion.com, but it does not have test.com so [1,1,0] and the user labled it as a spam, so target is 1\n",
    "\n",
    "this way for every email there is a checklist of 0s and 1s based on which box it ticked, and a result of 1 or 0 based on if it is labled as spam by the user\n",
    "\n",
    "3: now with the data, we can throw it in a model and use machien learning to detect spam. The prediction will not give 0 and 1, insetad it will give a percentage between 0 and 1\n",
    "\n",
    "This is called the prediction. Then we use the prediction to make a decision. For example if it is more than 50% then we label it as spam.\n",
    "\n",
    "\n"
   ]
  }
 ],
 "metadata": {
  "language_info": {
   "name": "python"
  }
 },
 "nbformat": 4,
 "nbformat_minor": 5
}
