{
 "cells": [
  {
   "cell_type": "code",
   "execution_count": 49,
   "id": "2d5ae8b3",
   "metadata": {},
   "outputs": [
    {
     "data": {
      "text/plain": [
       "np.float64(0.5187709081074039)"
      ]
     },
     "execution_count": 49,
     "metadata": {},
     "output_type": "execute_result"
    }
   ],
   "source": [
    "import pandas as pd\n",
    "import numpy as np\n",
    "\n",
    "\n",
    "df = pd.read_csv('car_fuel_efficiency.csv')\n",
    "\n",
    "\n",
    "df.shape #9704 records\n",
    "\n",
    "df.fuel_type.describe() # two fuel types\n",
    "\n",
    "df.isnull().sum() #4 columns\n",
    "\n",
    "df.fuel_efficiency_mpg.describe() #max is 25.9???\n",
    "\n",
    "#this is q6\n",
    "df.horsepower.median() #149\n",
    "df.horsepower.mode() #152\n",
    "df.horsepower.fillna(152)\n",
    "df.horsepower.median() #did not change\n",
    "\n",
    "#q7\n",
    "a = df[df['origin'] == \"Asia\"]\n",
    "b = a[['vehicle_weight', 'model_year']]\n",
    "b = b.head(n=7)\n",
    "\n",
    "X = np.array(b)\n",
    "\n",
    "#matrix matrix multiplication\n",
    "XTX = np.dot(X.T, X)\n",
    "inv = np.linalg.inv(XTX)\n",
    "\n",
    "y = np.array([1100, 1300, 800, 900, 1000, 1100, 1200])\n",
    "w = np.dot(inv, np.dot(X.T, y))\n",
    "\n",
    "w.sum()\n"
   ]
  }
 ],
 "metadata": {
  "kernelspec": {
   "display_name": ".venv",
   "language": "python",
   "name": "python3"
  },
  "language_info": {
   "codemirror_mode": {
    "name": "ipython",
    "version": 3
   },
   "file_extension": ".py",
   "mimetype": "text/x-python",
   "name": "python",
   "nbconvert_exporter": "python",
   "pygments_lexer": "ipython3",
   "version": "3.12.1"
  }
 },
 "nbformat": 4,
 "nbformat_minor": 5
}
