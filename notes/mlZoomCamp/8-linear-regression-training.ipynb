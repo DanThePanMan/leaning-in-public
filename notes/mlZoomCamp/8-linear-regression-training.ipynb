{
 "cells": [
  {
   "cell_type": "markdown",
   "id": "346dcfbe",
   "metadata": {},
   "source": [
    "# Hands On Project\n",
    "\n",
    "car price prediction model based on feature.\n",
    "\n",
    "We will use the dataset from kaggle\n",
    "https://www.kaggle.com/datasets/CooperUnion/cardataset\n",
    "\n",
    "<br>\n",
    "Here is the pan:\n",
    "- Prepare data and do EDA\n",
    "- Use linear regression\n",
    "- Understand the internals of linear regression\n",
    "- Evaluate with RMSE\n",
    "- Feature engineering\n",
    "- Regularization\n",
    "- Use the model\n"
   ]
  },
  {
   "cell_type": "markdown",
   "id": "6c83332d",
   "metadata": {},
   "source": [
    "## 1: Data Prep\n",
    "\n"
   ]
  },
  {
   "cell_type": "code",
   "execution_count": 1,
   "id": "cb19dd6a",
   "metadata": {},
   "outputs": [],
   "source": [
    "#imports\n",
    "import pandas as pd\n",
    "import numpy as np"
   ]
  },
  {
   "cell_type": "code",
   "execution_count": 2,
   "id": "77141f6b",
   "metadata": {},
   "outputs": [
    {
     "data": {
      "text/html": [
       "<div>\n",
       "<style scoped>\n",
       "    .dataframe tbody tr th:only-of-type {\n",
       "        vertical-align: middle;\n",
       "    }\n",
       "\n",
       "    .dataframe tbody tr th {\n",
       "        vertical-align: top;\n",
       "    }\n",
       "\n",
       "    .dataframe thead th {\n",
       "        text-align: right;\n",
       "    }\n",
       "</style>\n",
       "<table border=\"1\" class=\"dataframe\">\n",
       "  <thead>\n",
       "    <tr style=\"text-align: right;\">\n",
       "      <th></th>\n",
       "      <th>Make</th>\n",
       "      <th>Model</th>\n",
       "      <th>Year</th>\n",
       "      <th>Engine Fuel Type</th>\n",
       "      <th>Engine HP</th>\n",
       "      <th>Engine Cylinders</th>\n",
       "      <th>Transmission Type</th>\n",
       "      <th>Driven_Wheels</th>\n",
       "      <th>Number of Doors</th>\n",
       "      <th>Market Category</th>\n",
       "      <th>Vehicle Size</th>\n",
       "      <th>Vehicle Style</th>\n",
       "      <th>highway MPG</th>\n",
       "      <th>city mpg</th>\n",
       "      <th>Popularity</th>\n",
       "      <th>MSRP</th>\n",
       "    </tr>\n",
       "  </thead>\n",
       "  <tbody>\n",
       "    <tr>\n",
       "      <th>0</th>\n",
       "      <td>BMW</td>\n",
       "      <td>1 Series M</td>\n",
       "      <td>2011</td>\n",
       "      <td>premium unleaded (required)</td>\n",
       "      <td>335.0</td>\n",
       "      <td>6.0</td>\n",
       "      <td>MANUAL</td>\n",
       "      <td>rear wheel drive</td>\n",
       "      <td>2.0</td>\n",
       "      <td>Factory Tuner,Luxury,High-Performance</td>\n",
       "      <td>Compact</td>\n",
       "      <td>Coupe</td>\n",
       "      <td>26</td>\n",
       "      <td>19</td>\n",
       "      <td>3916</td>\n",
       "      <td>46135</td>\n",
       "    </tr>\n",
       "    <tr>\n",
       "      <th>1</th>\n",
       "      <td>BMW</td>\n",
       "      <td>1 Series</td>\n",
       "      <td>2011</td>\n",
       "      <td>premium unleaded (required)</td>\n",
       "      <td>300.0</td>\n",
       "      <td>6.0</td>\n",
       "      <td>MANUAL</td>\n",
       "      <td>rear wheel drive</td>\n",
       "      <td>2.0</td>\n",
       "      <td>Luxury,Performance</td>\n",
       "      <td>Compact</td>\n",
       "      <td>Convertible</td>\n",
       "      <td>28</td>\n",
       "      <td>19</td>\n",
       "      <td>3916</td>\n",
       "      <td>40650</td>\n",
       "    </tr>\n",
       "    <tr>\n",
       "      <th>2</th>\n",
       "      <td>BMW</td>\n",
       "      <td>1 Series</td>\n",
       "      <td>2011</td>\n",
       "      <td>premium unleaded (required)</td>\n",
       "      <td>300.0</td>\n",
       "      <td>6.0</td>\n",
       "      <td>MANUAL</td>\n",
       "      <td>rear wheel drive</td>\n",
       "      <td>2.0</td>\n",
       "      <td>Luxury,High-Performance</td>\n",
       "      <td>Compact</td>\n",
       "      <td>Coupe</td>\n",
       "      <td>28</td>\n",
       "      <td>20</td>\n",
       "      <td>3916</td>\n",
       "      <td>36350</td>\n",
       "    </tr>\n",
       "    <tr>\n",
       "      <th>3</th>\n",
       "      <td>BMW</td>\n",
       "      <td>1 Series</td>\n",
       "      <td>2011</td>\n",
       "      <td>premium unleaded (required)</td>\n",
       "      <td>230.0</td>\n",
       "      <td>6.0</td>\n",
       "      <td>MANUAL</td>\n",
       "      <td>rear wheel drive</td>\n",
       "      <td>2.0</td>\n",
       "      <td>Luxury,Performance</td>\n",
       "      <td>Compact</td>\n",
       "      <td>Coupe</td>\n",
       "      <td>28</td>\n",
       "      <td>18</td>\n",
       "      <td>3916</td>\n",
       "      <td>29450</td>\n",
       "    </tr>\n",
       "    <tr>\n",
       "      <th>4</th>\n",
       "      <td>BMW</td>\n",
       "      <td>1 Series</td>\n",
       "      <td>2011</td>\n",
       "      <td>premium unleaded (required)</td>\n",
       "      <td>230.0</td>\n",
       "      <td>6.0</td>\n",
       "      <td>MANUAL</td>\n",
       "      <td>rear wheel drive</td>\n",
       "      <td>2.0</td>\n",
       "      <td>Luxury</td>\n",
       "      <td>Compact</td>\n",
       "      <td>Convertible</td>\n",
       "      <td>28</td>\n",
       "      <td>18</td>\n",
       "      <td>3916</td>\n",
       "      <td>34500</td>\n",
       "    </tr>\n",
       "  </tbody>\n",
       "</table>\n",
       "</div>"
      ],
      "text/plain": [
       "  Make       Model  Year             Engine Fuel Type  Engine HP  \\\n",
       "0  BMW  1 Series M  2011  premium unleaded (required)      335.0   \n",
       "1  BMW    1 Series  2011  premium unleaded (required)      300.0   \n",
       "2  BMW    1 Series  2011  premium unleaded (required)      300.0   \n",
       "3  BMW    1 Series  2011  premium unleaded (required)      230.0   \n",
       "4  BMW    1 Series  2011  premium unleaded (required)      230.0   \n",
       "\n",
       "   Engine Cylinders Transmission Type     Driven_Wheels  Number of Doors  \\\n",
       "0               6.0            MANUAL  rear wheel drive              2.0   \n",
       "1               6.0            MANUAL  rear wheel drive              2.0   \n",
       "2               6.0            MANUAL  rear wheel drive              2.0   \n",
       "3               6.0            MANUAL  rear wheel drive              2.0   \n",
       "4               6.0            MANUAL  rear wheel drive              2.0   \n",
       "\n",
       "                         Market Category Vehicle Size Vehicle Style  \\\n",
       "0  Factory Tuner,Luxury,High-Performance      Compact         Coupe   \n",
       "1                     Luxury,Performance      Compact   Convertible   \n",
       "2                Luxury,High-Performance      Compact         Coupe   \n",
       "3                     Luxury,Performance      Compact         Coupe   \n",
       "4                                 Luxury      Compact   Convertible   \n",
       "\n",
       "   highway MPG  city mpg  Popularity   MSRP  \n",
       "0           26        19        3916  46135  \n",
       "1           28        19        3916  40650  \n",
       "2           28        20        3916  36350  \n",
       "3           28        18        3916  29450  \n",
       "4           28        18        3916  34500  "
      ]
     },
     "execution_count": 2,
     "metadata": {},
     "output_type": "execute_result"
    }
   ],
   "source": [
    "# To load data form a csv use pd.read_csv()\n",
    "\n",
    "\n",
    "df = pd.read_csv('data/car-price.csv')\n",
    "df.head()"
   ]
  },
  {
   "cell_type": "markdown",
   "id": "ac33c88d",
   "metadata": {},
   "source": [
    "notice how there are some inconsistencies for the column names, some have upper case some have under scores. Lets make them lower case and mak ethem lower case"
   ]
  },
  {
   "cell_type": "code",
   "execution_count": 3,
   "id": "5fb8e043",
   "metadata": {},
   "outputs": [
    {
     "data": {
      "text/plain": [
       "Index(['Make', 'Model', 'Year', 'Engine Fuel Type', 'Engine HP',\n",
       "       'Engine Cylinders', 'Transmission Type', 'Driven_Wheels',\n",
       "       'Number of Doors', 'Market Category', 'Vehicle Size', 'Vehicle Style',\n",
       "       'highway MPG', 'city mpg', 'Popularity', 'MSRP'],\n",
       "      dtype='object')"
      ]
     },
     "execution_count": 3,
     "metadata": {},
     "output_type": "execute_result"
    }
   ],
   "source": [
    "df.columns"
   ]
  },
  {
   "cell_type": "code",
   "execution_count": 4,
   "id": "b4d11454",
   "metadata": {},
   "outputs": [
    {
     "data": {
      "text/html": [
       "<div>\n",
       "<style scoped>\n",
       "    .dataframe tbody tr th:only-of-type {\n",
       "        vertical-align: middle;\n",
       "    }\n",
       "\n",
       "    .dataframe tbody tr th {\n",
       "        vertical-align: top;\n",
       "    }\n",
       "\n",
       "    .dataframe thead th {\n",
       "        text-align: right;\n",
       "    }\n",
       "</style>\n",
       "<table border=\"1\" class=\"dataframe\">\n",
       "  <thead>\n",
       "    <tr style=\"text-align: right;\">\n",
       "      <th></th>\n",
       "      <th>make</th>\n",
       "      <th>model</th>\n",
       "      <th>year</th>\n",
       "      <th>engine_fuel_type</th>\n",
       "      <th>engine_hp</th>\n",
       "      <th>engine_cylinders</th>\n",
       "      <th>transmission_type</th>\n",
       "      <th>driven_wheels</th>\n",
       "      <th>number_of_doors</th>\n",
       "      <th>market_category</th>\n",
       "      <th>vehicle_size</th>\n",
       "      <th>vehicle_style</th>\n",
       "      <th>highway_mpg</th>\n",
       "      <th>city_mpg</th>\n",
       "      <th>popularity</th>\n",
       "      <th>msrp</th>\n",
       "    </tr>\n",
       "  </thead>\n",
       "  <tbody>\n",
       "    <tr>\n",
       "      <th>0</th>\n",
       "      <td>BMW</td>\n",
       "      <td>1 Series M</td>\n",
       "      <td>2011</td>\n",
       "      <td>premium unleaded (required)</td>\n",
       "      <td>335.0</td>\n",
       "      <td>6.0</td>\n",
       "      <td>MANUAL</td>\n",
       "      <td>rear wheel drive</td>\n",
       "      <td>2.0</td>\n",
       "      <td>Factory Tuner,Luxury,High-Performance</td>\n",
       "      <td>Compact</td>\n",
       "      <td>Coupe</td>\n",
       "      <td>26</td>\n",
       "      <td>19</td>\n",
       "      <td>3916</td>\n",
       "      <td>46135</td>\n",
       "    </tr>\n",
       "    <tr>\n",
       "      <th>1</th>\n",
       "      <td>BMW</td>\n",
       "      <td>1 Series</td>\n",
       "      <td>2011</td>\n",
       "      <td>premium unleaded (required)</td>\n",
       "      <td>300.0</td>\n",
       "      <td>6.0</td>\n",
       "      <td>MANUAL</td>\n",
       "      <td>rear wheel drive</td>\n",
       "      <td>2.0</td>\n",
       "      <td>Luxury,Performance</td>\n",
       "      <td>Compact</td>\n",
       "      <td>Convertible</td>\n",
       "      <td>28</td>\n",
       "      <td>19</td>\n",
       "      <td>3916</td>\n",
       "      <td>40650</td>\n",
       "    </tr>\n",
       "    <tr>\n",
       "      <th>2</th>\n",
       "      <td>BMW</td>\n",
       "      <td>1 Series</td>\n",
       "      <td>2011</td>\n",
       "      <td>premium unleaded (required)</td>\n",
       "      <td>300.0</td>\n",
       "      <td>6.0</td>\n",
       "      <td>MANUAL</td>\n",
       "      <td>rear wheel drive</td>\n",
       "      <td>2.0</td>\n",
       "      <td>Luxury,High-Performance</td>\n",
       "      <td>Compact</td>\n",
       "      <td>Coupe</td>\n",
       "      <td>28</td>\n",
       "      <td>20</td>\n",
       "      <td>3916</td>\n",
       "      <td>36350</td>\n",
       "    </tr>\n",
       "    <tr>\n",
       "      <th>3</th>\n",
       "      <td>BMW</td>\n",
       "      <td>1 Series</td>\n",
       "      <td>2011</td>\n",
       "      <td>premium unleaded (required)</td>\n",
       "      <td>230.0</td>\n",
       "      <td>6.0</td>\n",
       "      <td>MANUAL</td>\n",
       "      <td>rear wheel drive</td>\n",
       "      <td>2.0</td>\n",
       "      <td>Luxury,Performance</td>\n",
       "      <td>Compact</td>\n",
       "      <td>Coupe</td>\n",
       "      <td>28</td>\n",
       "      <td>18</td>\n",
       "      <td>3916</td>\n",
       "      <td>29450</td>\n",
       "    </tr>\n",
       "    <tr>\n",
       "      <th>4</th>\n",
       "      <td>BMW</td>\n",
       "      <td>1 Series</td>\n",
       "      <td>2011</td>\n",
       "      <td>premium unleaded (required)</td>\n",
       "      <td>230.0</td>\n",
       "      <td>6.0</td>\n",
       "      <td>MANUAL</td>\n",
       "      <td>rear wheel drive</td>\n",
       "      <td>2.0</td>\n",
       "      <td>Luxury</td>\n",
       "      <td>Compact</td>\n",
       "      <td>Convertible</td>\n",
       "      <td>28</td>\n",
       "      <td>18</td>\n",
       "      <td>3916</td>\n",
       "      <td>34500</td>\n",
       "    </tr>\n",
       "  </tbody>\n",
       "</table>\n",
       "</div>"
      ],
      "text/plain": [
       "  make       model  year             engine_fuel_type  engine_hp  \\\n",
       "0  BMW  1 Series M  2011  premium unleaded (required)      335.0   \n",
       "1  BMW    1 Series  2011  premium unleaded (required)      300.0   \n",
       "2  BMW    1 Series  2011  premium unleaded (required)      300.0   \n",
       "3  BMW    1 Series  2011  premium unleaded (required)      230.0   \n",
       "4  BMW    1 Series  2011  premium unleaded (required)      230.0   \n",
       "\n",
       "   engine_cylinders transmission_type     driven_wheels  number_of_doors  \\\n",
       "0               6.0            MANUAL  rear wheel drive              2.0   \n",
       "1               6.0            MANUAL  rear wheel drive              2.0   \n",
       "2               6.0            MANUAL  rear wheel drive              2.0   \n",
       "3               6.0            MANUAL  rear wheel drive              2.0   \n",
       "4               6.0            MANUAL  rear wheel drive              2.0   \n",
       "\n",
       "                         market_category vehicle_size vehicle_style  \\\n",
       "0  Factory Tuner,Luxury,High-Performance      Compact         Coupe   \n",
       "1                     Luxury,Performance      Compact   Convertible   \n",
       "2                Luxury,High-Performance      Compact         Coupe   \n",
       "3                     Luxury,Performance      Compact         Coupe   \n",
       "4                                 Luxury      Compact   Convertible   \n",
       "\n",
       "   highway_mpg  city_mpg  popularity   msrp  \n",
       "0           26        19        3916  46135  \n",
       "1           28        19        3916  40650  \n",
       "2           28        20        3916  36350  \n",
       "3           28        18        3916  29450  \n",
       "4           28        18        3916  34500  "
      ]
     },
     "execution_count": 4,
     "metadata": {},
     "output_type": "execute_result"
    }
   ],
   "source": [
    "df.columns = df.columns.str.lower().str.replace(' ','_')\n",
    "df.head()"
   ]
  },
  {
   "cell_type": "markdown",
   "id": "19302df1",
   "metadata": {},
   "source": [
    "Now we normalize the values. First we need to find the non string columns"
   ]
  },
  {
   "cell_type": "code",
   "execution_count": 5,
   "id": "328821d6",
   "metadata": {},
   "outputs": [
    {
     "data": {
      "text/plain": [
       "make                  object\n",
       "model                 object\n",
       "year                   int64\n",
       "engine_fuel_type      object\n",
       "engine_hp            float64\n",
       "engine_cylinders     float64\n",
       "transmission_type     object\n",
       "driven_wheels         object\n",
       "number_of_doors      float64\n",
       "market_category       object\n",
       "vehicle_size          object\n",
       "vehicle_style         object\n",
       "highway_mpg            int64\n",
       "city_mpg               int64\n",
       "popularity             int64\n",
       "msrp                   int64\n",
       "dtype: object"
      ]
     },
     "execution_count": 5,
     "metadata": {},
     "output_type": "execute_result"
    }
   ],
   "source": [
    "# get all types\n",
    "df.dtypes\n",
    "\n",
    "# we only care about the objects"
   ]
  },
  {
   "cell_type": "code",
   "execution_count": 6,
   "id": "466d5318",
   "metadata": {},
   "outputs": [
    {
     "data": {
      "text/plain": [
       "['make',\n",
       " 'model',\n",
       " 'engine_fuel_type',\n",
       " 'transmission_type',\n",
       " 'driven_wheels',\n",
       " 'market_category',\n",
       " 'vehicle_size',\n",
       " 'vehicle_style']"
      ]
     },
     "execution_count": 6,
     "metadata": {},
     "output_type": "execute_result"
    }
   ],
   "source": [
    "strings = list(df.dtypes[df.dtypes == 'object'].index)\n",
    "# care about the index, since values are all object\\\n",
    "strings"
   ]
  },
  {
   "cell_type": "code",
   "execution_count": 7,
   "id": "f9709026",
   "metadata": {},
   "outputs": [
    {
     "data": {
      "text/html": [
       "<div>\n",
       "<style scoped>\n",
       "    .dataframe tbody tr th:only-of-type {\n",
       "        vertical-align: middle;\n",
       "    }\n",
       "\n",
       "    .dataframe tbody tr th {\n",
       "        vertical-align: top;\n",
       "    }\n",
       "\n",
       "    .dataframe thead th {\n",
       "        text-align: right;\n",
       "    }\n",
       "</style>\n",
       "<table border=\"1\" class=\"dataframe\">\n",
       "  <thead>\n",
       "    <tr style=\"text-align: right;\">\n",
       "      <th></th>\n",
       "      <th>make</th>\n",
       "      <th>model</th>\n",
       "      <th>year</th>\n",
       "      <th>engine_fuel_type</th>\n",
       "      <th>engine_hp</th>\n",
       "      <th>engine_cylinders</th>\n",
       "      <th>transmission_type</th>\n",
       "      <th>driven_wheels</th>\n",
       "      <th>number_of_doors</th>\n",
       "      <th>market_category</th>\n",
       "      <th>vehicle_size</th>\n",
       "      <th>vehicle_style</th>\n",
       "      <th>highway_mpg</th>\n",
       "      <th>city_mpg</th>\n",
       "      <th>popularity</th>\n",
       "      <th>msrp</th>\n",
       "    </tr>\n",
       "  </thead>\n",
       "  <tbody>\n",
       "    <tr>\n",
       "      <th>0</th>\n",
       "      <td>bmw</td>\n",
       "      <td>1_series_m</td>\n",
       "      <td>2011</td>\n",
       "      <td>premium_unleaded_(required)</td>\n",
       "      <td>335.0</td>\n",
       "      <td>6.0</td>\n",
       "      <td>manual</td>\n",
       "      <td>rear_wheel_drive</td>\n",
       "      <td>2.0</td>\n",
       "      <td>factory_tuner,luxury,high-performance</td>\n",
       "      <td>compact</td>\n",
       "      <td>coupe</td>\n",
       "      <td>26</td>\n",
       "      <td>19</td>\n",
       "      <td>3916</td>\n",
       "      <td>46135</td>\n",
       "    </tr>\n",
       "    <tr>\n",
       "      <th>1</th>\n",
       "      <td>bmw</td>\n",
       "      <td>1_series</td>\n",
       "      <td>2011</td>\n",
       "      <td>premium_unleaded_(required)</td>\n",
       "      <td>300.0</td>\n",
       "      <td>6.0</td>\n",
       "      <td>manual</td>\n",
       "      <td>rear_wheel_drive</td>\n",
       "      <td>2.0</td>\n",
       "      <td>luxury,performance</td>\n",
       "      <td>compact</td>\n",
       "      <td>convertible</td>\n",
       "      <td>28</td>\n",
       "      <td>19</td>\n",
       "      <td>3916</td>\n",
       "      <td>40650</td>\n",
       "    </tr>\n",
       "    <tr>\n",
       "      <th>2</th>\n",
       "      <td>bmw</td>\n",
       "      <td>1_series</td>\n",
       "      <td>2011</td>\n",
       "      <td>premium_unleaded_(required)</td>\n",
       "      <td>300.0</td>\n",
       "      <td>6.0</td>\n",
       "      <td>manual</td>\n",
       "      <td>rear_wheel_drive</td>\n",
       "      <td>2.0</td>\n",
       "      <td>luxury,high-performance</td>\n",
       "      <td>compact</td>\n",
       "      <td>coupe</td>\n",
       "      <td>28</td>\n",
       "      <td>20</td>\n",
       "      <td>3916</td>\n",
       "      <td>36350</td>\n",
       "    </tr>\n",
       "    <tr>\n",
       "      <th>3</th>\n",
       "      <td>bmw</td>\n",
       "      <td>1_series</td>\n",
       "      <td>2011</td>\n",
       "      <td>premium_unleaded_(required)</td>\n",
       "      <td>230.0</td>\n",
       "      <td>6.0</td>\n",
       "      <td>manual</td>\n",
       "      <td>rear_wheel_drive</td>\n",
       "      <td>2.0</td>\n",
       "      <td>luxury,performance</td>\n",
       "      <td>compact</td>\n",
       "      <td>coupe</td>\n",
       "      <td>28</td>\n",
       "      <td>18</td>\n",
       "      <td>3916</td>\n",
       "      <td>29450</td>\n",
       "    </tr>\n",
       "    <tr>\n",
       "      <th>4</th>\n",
       "      <td>bmw</td>\n",
       "      <td>1_series</td>\n",
       "      <td>2011</td>\n",
       "      <td>premium_unleaded_(required)</td>\n",
       "      <td>230.0</td>\n",
       "      <td>6.0</td>\n",
       "      <td>manual</td>\n",
       "      <td>rear_wheel_drive</td>\n",
       "      <td>2.0</td>\n",
       "      <td>luxury</td>\n",
       "      <td>compact</td>\n",
       "      <td>convertible</td>\n",
       "      <td>28</td>\n",
       "      <td>18</td>\n",
       "      <td>3916</td>\n",
       "      <td>34500</td>\n",
       "    </tr>\n",
       "  </tbody>\n",
       "</table>\n",
       "</div>"
      ],
      "text/plain": [
       "  make       model  year             engine_fuel_type  engine_hp  \\\n",
       "0  bmw  1_series_m  2011  premium_unleaded_(required)      335.0   \n",
       "1  bmw    1_series  2011  premium_unleaded_(required)      300.0   \n",
       "2  bmw    1_series  2011  premium_unleaded_(required)      300.0   \n",
       "3  bmw    1_series  2011  premium_unleaded_(required)      230.0   \n",
       "4  bmw    1_series  2011  premium_unleaded_(required)      230.0   \n",
       "\n",
       "   engine_cylinders transmission_type     driven_wheels  number_of_doors  \\\n",
       "0               6.0            manual  rear_wheel_drive              2.0   \n",
       "1               6.0            manual  rear_wheel_drive              2.0   \n",
       "2               6.0            manual  rear_wheel_drive              2.0   \n",
       "3               6.0            manual  rear_wheel_drive              2.0   \n",
       "4               6.0            manual  rear_wheel_drive              2.0   \n",
       "\n",
       "                         market_category vehicle_size vehicle_style  \\\n",
       "0  factory_tuner,luxury,high-performance      compact         coupe   \n",
       "1                     luxury,performance      compact   convertible   \n",
       "2                luxury,high-performance      compact         coupe   \n",
       "3                     luxury,performance      compact         coupe   \n",
       "4                                 luxury      compact   convertible   \n",
       "\n",
       "   highway_mpg  city_mpg  popularity   msrp  \n",
       "0           26        19        3916  46135  \n",
       "1           28        19        3916  40650  \n",
       "2           28        20        3916  36350  \n",
       "3           28        18        3916  29450  \n",
       "4           28        18        3916  34500  "
      ]
     },
     "execution_count": 7,
     "metadata": {},
     "output_type": "execute_result"
    }
   ],
   "source": [
    "# loop over to clean them up\n",
    "for col in strings:\n",
    "    df[col] = df[col].str.lower().str.replace(' ','_')\n",
    "    \n",
    "df.head()"
   ]
  },
  {
   "cell_type": "markdown",
   "id": "c5391832",
   "metadata": {},
   "source": [
    "# Exploratory Data Analysis\n"
   ]
  },
  {
   "cell_type": "code",
   "execution_count": 227,
   "id": "3293d8d4",
   "metadata": {},
   "outputs": [
    {
     "name": "stdout",
     "output_type": "stream",
     "text": [
      "make\n",
      "['bmw' 'audi' 'fiat' 'mercedes-benz' 'chrysler' 'nissan' 'volvo' 'mazda'\n",
      " 'mitsubishi' 'ferrari' 'alfa_romeo' 'toyota' 'mclaren' 'maybach'\n",
      " 'pontiac' 'porsche' 'saab' 'gmc' 'hyundai' 'plymouth' 'honda'\n",
      " 'oldsmobile' 'suzuki' 'ford' 'cadillac' 'kia' 'bentley' 'chevrolet'\n",
      " 'dodge' 'lamborghini' 'lincoln' 'subaru' 'volkswagen' 'spyker' 'buick'\n",
      " 'acura' 'rolls-royce' 'maserati' 'lexus' 'aston_martin' 'land_rover'\n",
      " 'lotus' 'infiniti' 'scion' 'genesis' 'hummer' 'tesla' 'bugatti']\n",
      "48\n",
      "\n",
      "model\n",
      "['1_series_m' '1_series' '100' '124_spider' '190-class' '2_series' '200'\n",
      " '200sx' '240sx' '240' '2' '3_series_gran_turismo' '3_series' '300-class'\n",
      " '3000gt' '300' '300m' '300zx' '323' '350-class' '350z' '360' '370z' '3'\n",
      " '4_series_gran_coupe' '4_series' '400-class' '420-class' '456m'\n",
      " '458_italia' '4c' '4runner' '5_series_gran_turismo' '5_series'\n",
      " '500-class' '500e' '500' '500l' '500x' '550' '560-class' '570s' '575m'\n",
      " '57' '599' '5' '6_series_gran_coupe' '6_series' '600-class' '6000'\n",
      " '612_scaglietti' '626' '62' '650s_coupe' '650s_spider' '6' '7_series'\n",
      " '718_cayman' '740' '760' '780' '8_series' '80' '850' '86' '9-2x'\n",
      " '9-3_griffin' '9-3' '9-4x' '9-5' '9-7x' '9000' '900' '90' '911' '928'\n",
      " '929' '940' '944' '960' '968' 'a3' 'a4_allroad' 'a4' 'a5' 'a6' 'a7' 'a8'\n",
      " 'acadia_limited' 'acadia' 'accent' 'acclaim' 'accord_crosstour'\n",
      " 'accord_hybrid' 'accord_plug-in_hybrid' 'accord' 'achieva'\n",
      " 'activehybrid_5' 'activehybrid_7' 'activehybrid_x6' 'aerio' 'aerostar'\n",
      " 'alero' 'allante' 'allroad_quattro' 'allroad' 'alpina_b6_gran_coupe'\n",
      " 'alpina_b7' 'alpina' 'altima_hybrid' 'altima' 'amanti' 'amg_gt' 'armada'\n",
      " 'arnage' 'aspen' 'aspire' 'astro_cargo' 'astro' 'ats_coupe' 'ats-v' 'ats'\n",
      " 'aurora' 'avalanche' 'avalon_hybrid' 'avalon' 'avenger' 'aventador'\n",
      " 'aveo' 'aviator' 'axxess' 'azera' 'aztek' 'azure_t' 'azure'\n",
      " 'b-class_electric_drive' 'b-series_pickup' 'b-series_truck' 'b-series'\n",
      " 'b9_tribeca' 'baja' 'beetle_convertible' 'beetle' 'beretta'\n",
      " 'black_diamond_avalanche' 'blackwood' 'blazer' 'bolt_ev' 'bonneville'\n",
      " 'borrego' 'boxster' 'bravada' 'breeze' 'bronco_ii' 'bronco' 'brooklands'\n",
      " 'brougham' 'brz' 'c-class' 'c-max_hybrid' 'c30' 'c36_amg' 'c43_amg' 'c70'\n",
      " 'c8' 'cabriolet' 'cabrio' 'cadenza' 'caliber' 'california_t' 'california'\n",
      " 'camaro' 'camry_hybrid' 'camry_solara' 'camry' 'canyon' 'caprice'\n",
      " 'captiva_sport' 'caravan' 'carrera_gt' 'cascada' 'catera' 'cavalier'\n",
      " 'cayenne' 'cayman_s' 'cayman' 'cc' 'celebrity' 'celica' 'century'\n",
      " 'challenger' 'charger' 'chevy_van' 'ciera' 'cirrus' 'city_express'\n",
      " 'civic_crx' 'civic_del_sol' 'civic' 'c/k_1500_series' 'c/k_2500_series'\n",
      " 'cl-class' 'cla-class' 'cl' 'classic' 'clk-class' 'cls-class' 'cobalt'\n",
      " 'colorado' 'colt' 'concorde' 'continental_flying_spur_speed'\n",
      " 'continental_flying_spur' 'continental_gt_speed_convertible'\n",
      " 'continental_gt_speed' 'continental_gt3-r' 'continental_gt'\n",
      " 'continental_gtc_speed' 'continental_gtc'\n",
      " 'continental_supersports_convertible' 'continental_supersports'\n",
      " 'continental' 'contour_svt' 'contour' 'corniche' 'corolla_im' 'corolla'\n",
      " 'corrado' 'corsica' 'corvette_stingray' 'corvette' 'coupe' 'cr-v' 'cr-z'\n",
      " 'cressida' 'crossfire' 'crosstour' 'crosstrek' 'crown_victoria'\n",
      " 'cruze_limited' 'cruze' 'ct_200h' 'ct6' 'cts_coupe' 'cts-v_coupe'\n",
      " 'cts-v_wagon' 'cts-v' 'cts_wagon' 'cts' 'cube' 'custom_cruiser'\n",
      " 'cutlass_calais' 'cutlass_ciera' 'cutlass_supreme' 'cutlass' 'cx-3'\n",
      " 'cx-5' 'cx-7' 'cx-9' 'dakota' 'dart' 'dawn' 'daytona' 'db7' 'db9_gt'\n",
      " 'db9' 'dbs' 'defender' 'deville' 'diablo' 'diamante'\n",
      " 'discovery_series_ii' 'discovery_sport' 'discovery' 'dts' 'durango'\n",
      " 'dynasty' 'e-150' 'e-250' 'e-class' 'e-golf' 'e-series_van'\n",
      " 'e-series_wagon' 'e55_amg' 'echo' 'eclipse_spyder' 'eclipse' 'edge'\n",
      " 'eighty-eight_royale' 'eighty-eight' 'elantra_coupe' 'elantra_gt'\n",
      " 'elantra_touring' 'elantra' 'eldorado' 'electra' 'element' 'elise'\n",
      " 'enclave' 'encore' 'endeavor' 'entourage' 'envision' 'envoy_xl'\n",
      " 'envoy_xuv' 'envoy' 'enzo' 'eos' 'equator' 'equinox' 'equus' 'es_250'\n",
      " 'es_300h' 'es_300' 'es_330' 'es_350' 'escalade_esv' 'escalade_ext'\n",
      " 'escalade_hybrid' 'escalade' 'escape_hybrid' 'escape' 'escort' 'esprit'\n",
      " 'estate_wagon' 'esteem' 'eurovan' 'evora_400' 'evora' 'ex35' 'excel'\n",
      " 'exige' 'ex' 'expedition' 'explorer_sport_trac' 'explorer_sport'\n",
      " 'explorer' 'expo' 'express_cargo' 'express' 'f-150_heritage'\n",
      " 'f-150_svt_lightning' 'f-150' 'f-250' 'f12_berlinetta' 'f430' 'festiva'\n",
      " 'ff' 'fiesta' 'firebird' 'fit_ev' 'fit' 'five_hundred' 'fj_cruiser'\n",
      " 'fleetwood' 'flex' 'flying_spur' 'focus_rs' 'focus_st' 'focus' 'forenza'\n",
      " 'forester' 'forte' 'fox' 'fr-s' 'freelander' 'freestar' 'freestyle'\n",
      " 'frontier' 'fusion_hybrid' 'fusion' 'fx35' 'fx45' 'fx50' 'fx' 'g-class'\n",
      " 'g_convertible' 'g_coupe' 'g_sedan' 'g20' 'g35' 'g37_convertible'\n",
      " 'g37_coupe' 'g37_sedan' 'g37' 'g3' 'g5' 'g6' 'g80' 'g8' 'galant'\n",
      " 'gallardo' 'genesis_coupe' 'genesis' 'ghibli' 'ghost_series_ii' 'ghost'\n",
      " 'gl-class' 'gla-class' 'glc-class' 'gle-class_coupe' 'gle-class' 'gli'\n",
      " 'glk-class' 'gls-class' 'golf_alltrack' 'golf_gti' 'golf_r'\n",
      " 'golf_sportwagen' 'golf' 'grand_am' 'grand_caravan' 'grand_prix'\n",
      " 'grand_vitara' 'grand_voyager' 'gransport' 'granturismo_convertible'\n",
      " 'granturismo' 'gs_200t' 'gs_300' 'gs_350' 'gs_400' 'gs_430' 'gs_450h'\n",
      " 'gs_460' 'gs_f' 'gt-r' 'gt' 'gti' 'gto' 'gx_460' 'gx_470' 'h3' 'h3t'\n",
      " 'hhr' 'highlander_hybrid' 'highlander' 'horizon' 'hr-v' 'hs_250h'\n",
      " 'huracan' 'i-miev' 'i30' 'i35' 'i3' 'ia' 'ilx_hybrid' 'ilx'\n",
      " 'impala_limited' 'impala' 'imperial' 'impreza_wrx' 'impreza' 'im'\n",
      " 'insight' 'integra' 'intrepid' 'intrigue' 'iq' 'is_200t' 'is_250_c'\n",
      " 'is_250' 'is_300' 'is_350_c' 'is_350' 'is_f' 'j30' 'jetta_gli'\n",
      " 'jetta_hybrid' 'jetta_sportwagen' 'jetta' 'jimmy' 'journey' 'juke'\n",
      " 'justy' 'jx' 'k900' 'kizashi' 'lacrosse' 'lancer_evolution'\n",
      " 'lancer_sportback' 'lancer' 'land_cruiser' 'landaulet' 'laser' 'le_baron'\n",
      " 'le_mans' 'leaf' 'legacy' 'legend' 'lesabre' 'levante' 'lfa' 'lhs'\n",
      " 'loyale' 'lr2' 'lr3' 'lr4' 'ls_400' 'ls_430' 'ls_460' 'ls_600h_l' 'ls'\n",
      " 'lss' 'ltd_crown_victoria' 'lucerne' 'lumina_minivan' 'lumina' 'lx_450'\n",
      " 'lx_470' 'lx_570' 'm-class' 'm2' 'm30' 'm35' 'm37' 'm3' 'm4_gts' 'm45'\n",
      " 'm4' 'm56' 'm5' 'm6_gran_coupe' 'm6' 'macan' 'magnum' 'malibu_classic'\n",
      " 'malibu_hybrid' 'malibu_limited' 'malibu_maxx' 'malibu' 'mark_lt'\n",
      " 'mark_viii' 'mark_vii' 'matrix' 'maxima' 'maybach' 'mazdaspeed_3'\n",
      " 'mazdaspeed_6' 'mazdaspeed_mx-5_miata' 'mazdaspeed_protege' 'm' 'mdx'\n",
      " 'metris' 'metro' 'mighty_max_pickup' 'millenia' 'mirage_g4' 'mirage'\n",
      " 'mkc' 'mks' 'mkt' 'mkx' 'mkz_hybrid' 'mkz' 'ml55_amg' 'model_s' 'monaco'\n",
      " 'montana_sv6' 'montana' 'monte_carlo' 'montero_sport' 'montero' 'mp4-12c'\n",
      " 'mpv' 'mr2_spyder' 'mr2' 'mulsanne' 'murano_crosscabriolet' 'murano'\n",
      " 'murcielago' 'mustang_svt_cobra' 'mustang' 'mx-3' 'mx-5_miata' 'mx-6'\n",
      " 'navajo' 'navigator' 'neon' 'new_beetle' 'new_yorker' 'ninety-eight'\n",
      " 'nitro' 'nsx' 'nv200' 'nx_200t' 'nx_300h' 'nx' 'odyssey' 'omni'\n",
      " 'optima_hybrid' 'optima' 'outback' 'outlander_sport' 'outlander'\n",
      " 'pacifica' 'panamera' 'park_avenue' 'park_ward' 'paseo' 'passat'\n",
      " 'passport' 'pathfinder' 'phaeton' 'phantom_coupe'\n",
      " 'phantom_drophead_coupe' 'phantom' 'pickup' 'pilot' 'precis' 'prelude'\n",
      " 'previa' 'prius_c' 'prius_prime' 'prius_v' 'prius' 'prizm' 'probe'\n",
      " 'protege5' 'protege' 'prowler' 'pt_cruiser' 'pulsar' 'q3' 'q40' 'q45'\n",
      " 'q50' 'q5' 'q60_convertible' 'q60_coupe' 'q70' 'q7' 'quattroporte'\n",
      " 'quest' 'qx4' 'qx50' 'qx56' 'qx60' 'qx70' 'qx80' 'qx' 'r-class' 'r32'\n",
      " 'r8' 'rabbit' 'raider' 'rainier' 'rally_wagon' 'ram_150' 'ram_250'\n",
      " 'ram_50_pickup' 'ram_cargo' 'ram_pickup_1500' 'ram_van' 'ram_wagon'\n",
      " 'ramcharger' 'range_rover_evoque' 'range_rover_sport' 'range_rover'\n",
      " 'ranger' 'rapide_s' 'rapide' 'rav4_ev' 'rav4_hybrid' 'rav4' 'rc_200t'\n",
      " 'rc_300' 'rc_350' 'rc_f' 'rdx' 'reatta' 'regal' 'regency' 'rendezvous'\n",
      " 'reno' 'reventon' 'ridgeline' 'rio' 'riviera' 'rl' 'rlx' 'roadmaster'\n",
      " 'rogue_select' 'rogue' 'rondo' 'routan' 'rs_4' 'rs_5' 'rs_6' 'rs_7' 'rsx'\n",
      " 'rx_300' 'rx_330' 'rx_350' 'rx_400h' 'rx_450h' 'rx-7' 'rx-8'\n",
      " 's-10_blazer' 's-10' 's-15_jimmy' 's-15' 's-class' 's2000' 's3' 's40'\n",
      " 's4' 's5' 's60_cross_country' 's60' 's6' 's70' 's7' 's80' 's8' 's90'\n",
      " 'safari_cargo' 'safari' 'samurai' 'santa_fe_sport' 'santa_fe'\n",
      " 'savana_cargo' 'savana' 'sc_300' 'sc_400' 'sc_430' 'scoupe' 'sebring'\n",
      " 'sedona' 'sentra' 'sephia' 'sequoia' 'seville' 'shadow' 'shelby_gt350'\n",
      " 'shelby_gt500' 'sidekick' 'sienna' 'sierra_1500_classic'\n",
      " 'sierra_1500_hybrid' 'sierra_1500' 'sierra_1500hd' 'sierra_c3'\n",
      " 'sierra_classic_1500' 'sigma' 'silhouette' 'silver_seraph'\n",
      " 'silverado_1500_classic' 'silverado_1500_hybrid' 'silverado_1500'\n",
      " 'sixty_special' 'skylark' 'sl-class' 'slc-class' 'slk-class'\n",
      " 'slr_mclaren' 'sls_amg_gt_final_edition' 'sls_amg_gt' 'sls_amg' 'slx'\n",
      " 'solstice' 'sonata_hybrid' 'sonata' 'sonic' 'sonoma' 'sorento' 'soul_ev'\n",
      " 'soul' 'spark_ev' 'spark' 'spectra' 'spirit' 'sportage' 'sportvan'\n",
      " 'spyder' 'sq5' 'srt_viper' 'srx' 'ss' 'ssr' 'stanza' 'stealth' 'stratus'\n",
      " 'sts-v' 'sts' 'suburban' 'sunbird' 'sundance' 'sunfire' 'superamerica'\n",
      " 'supersports_convertible_isr' 'supra' 'svx' 'swift' 'sx4' 'syclone'\n",
      " 't100' 'tacoma' 'tahoe_hybrid' 'tahoe_limited/z71' 'tahoe' 'taurus_x'\n",
      " 'taurus' 'tc' 'tempo' 'tercel' 'terrain' 'terraza' 'thunderbird'\n",
      " 'tiburon' 'tiguan' 'titan' 'tl' 'tlx' 'toronado' 'torrent' 'touareg_2'\n",
      " 'touareg' 'town_and_country' 'town_car' 'tracker' 'trailblazer_ext'\n",
      " 'trailblazer' 'trans_sport' 'transit_connect' 'transit_wagon' 'traverse'\n",
      " 'trax' 'tribeca' 'tribute_hybrid' 'tribute' 'truck' 'tsx_sport_wagon'\n",
      " 'tsx' 'tt_rs' 'tt' 'tts' 'tucson' 'tundra' 'typhoon' 'uplander'\n",
      " 'v12_vanquish' 'v12_vantage_s' 'v12_vantage' 'v40' 'v50'\n",
      " 'v60_cross_country' 'v60' 'v70' 'v8_vantage' 'v8' 'v90' 'vanagon'\n",
      " 'vandura' 'van' 'vanquish' 'vanwagon' 'veloster' 'venture' 'venza'\n",
      " 'veracruz' 'verano' 'verona' 'versa_note' 'versa' 'veyron_16.4' 'vibe'\n",
      " 'vigor' 'viper' 'virage' 'vitara' 'voyager' 'windstar_cargo' 'windstar'\n",
      " 'wraith' 'wrx' 'x-90' 'x1' 'x3' 'x4' 'x5_m' 'x5' 'x6_m' 'x6' 'xa' 'xb'\n",
      " 'xc60' 'xc70' 'xc90' 'xc' 'xd' 'xg300' 'xg350' 'xl-7' 'xl7' 'xlr-v' 'xlr'\n",
      " 'xt5' 'xterra' 'xts' 'xt' 'xv_crosstrek' 'yaris_ia' 'yaris'\n",
      " 'yukon_denali' 'yukon_hybrid' 'yukon_xl' 'yukon' 'z3' 'z4_m' 'z4' 'z8'\n",
      " 'zdx' 'zephyr']\n",
      "914\n",
      "\n",
      "year\n",
      "[2011 2012 2013 1992 1993 1994 2017 1991 2016 1990 2015 1996 1997 1998\n",
      " 2014 1999 2002 2003 2004 1995 2007 2008 2009 2001 2010 2000 2005 2006]\n",
      "28\n",
      "\n",
      "engine_fuel_type\n",
      "['premium_unleaded_(required)' 'regular_unleaded'\n",
      " 'premium_unleaded_(recommended)' 'flex-fuel_(unleaded/e85)' 'diesel'\n",
      " 'electric' 'flex-fuel_(premium_unleaded_recommended/e85)' 'natural_gas'\n",
      " 'flex-fuel_(premium_unleaded_required/e85)'\n",
      " 'flex-fuel_(unleaded/natural_gas)' nan]\n",
      "10\n",
      "\n",
      "engine_hp\n",
      "[ 335.  300.  230.  320.  172.  160.  130.  158.  240.  248.  162.  217.\n",
      "  184.  295.  115.  140.  155.  114.  100.  241.  180.  177.  228.  121.\n",
      "  148.  194.  218.  161.  292.  250.  255.  222.   82.  134.  306.  400.\n",
      "  425.  350.  332.  268.  282.  275.  201.  442.  562.  597.  237.  270.\n",
      "  445.  443.  302.  322.  315.   nan  101.  135.  485.  238.  515.  543.\n",
      "  631.  604.  620.  611.  661.  157.  402.  389.  110.  532.  170.  165.\n",
      "  125.  641.  535.  153.  144.  188.  372.  108.  168.  190.  205.  200.\n",
      "  227.  173.  220.  210.  280.  207.  265.  260.  290.  285.  390.  225.\n",
      "  185.  150.  430.  520.  560.  475.  500.  540.  370.  580.  420.  345.\n",
      "  195.  193.  208.  181.  236.  186.  252.  310.  333.  340.  450.  281.\n",
      "  288.  138.  137.  106.  271.  196.  212.  278.  189.  480.  152.  600.\n",
      "  375.  198.  182.  179.  264.  503.  456.  317.  235.  385.  303.   63.\n",
      "  321.  272.  464.  202.  215.  283.  700.  720.  750.  107.  293.  119.\n",
      "  143.  245.  120.  337.  276.  330.  132.  199.  530.  451.  329.  469.\n",
      "  362.   94.  553.  453.  483.  323.  426.  505.  455.  650.  178.  242.\n",
      "  305.  605.  440.  570.  325.  175.  707.  131.   62.   92.  102.  127.\n",
      "  174.  621.  510.  429.  536.  355.  382.  577.  113.  136.  234.  552.\n",
      "  626.  616.  572.  521.  567.  582.  460.  164.  192.  224.  239.  404.\n",
      "  318.  556.  640.  122.  146.  244.  273.  563.  141.  435.  550.  360.\n",
      "  145.  349.  166.  147.  128.  197.  291.  660.  261.  156.  403.   95.\n",
      "  297.   81.  257.  365.  203.  231.  731.  651.  287.  123.  126.  416.\n",
      "  343.  348.  328.  298.  171.  219.  221.  311.  361.  256.  415.  274.\n",
      "  449.  395.  401.  454.  444.  338.  342.  467.  545.  565.  301.  263.\n",
      "   93.  187.  610.   66.  111.   98.  204.  211.   73.  304.  381.  142.\n",
      "   74.  424.  253.   90.  386.  359.  438.  232.  383.  518.  493.  259.\n",
      "  523.   55.   79.  116.  151.   78.  191.  592.  632.  670.   88.  167.\n",
      "  118.  380.  214.  573.  284.   99.  103.  525.  254.  470.  154.  176.\n",
      "  279.  377.  251.  223.  308.  105.  316.  124.  526.  662.  266.  296.\n",
      "  557.  617.  583.  622.   84.  163.  354.  159.   96.  206.  169.  133.\n",
      "  568.  109. 1001.  645.  490.  624.  410.   97.  394.]\n",
      "356\n",
      "\n",
      "engine_cylinders\n",
      "[ 6.  4.  5.  8. 12.  0. nan 10.  3. 16.]\n",
      "9\n",
      "\n",
      "transmission_type\n",
      "['manual' 'automatic' 'automated_manual' 'direct_drive' 'unknown']\n",
      "5\n",
      "\n",
      "driven_wheels\n",
      "['rear_wheel_drive' 'front_wheel_drive' 'all_wheel_drive'\n",
      " 'four_wheel_drive']\n",
      "4\n",
      "\n",
      "number_of_doors\n",
      "[ 2.  4.  3. nan]\n",
      "3\n",
      "\n",
      "market_category\n",
      "['factory_tuner,luxury,high-performance' 'luxury,performance'\n",
      " 'luxury,high-performance' 'luxury' 'performance' 'flex_fuel'\n",
      " 'flex_fuel,performance' nan 'hatchback' 'hatchback,luxury,performance'\n",
      " 'hatchback,luxury' 'luxury,high-performance,hybrid' 'diesel,luxury'\n",
      " 'hatchback,performance' 'hatchback,factory_tuner,performance'\n",
      " 'high-performance' 'factory_tuner,high-performance'\n",
      " 'exotic,high-performance' 'exotic,factory_tuner,high-performance'\n",
      " 'factory_tuner,performance' 'crossover' 'exotic,luxury'\n",
      " 'exotic,luxury,high-performance' 'exotic,luxury,performance'\n",
      " 'factory_tuner,luxury,performance' 'flex_fuel,luxury' 'crossover,luxury'\n",
      " 'hatchback,factory_tuner,luxury,performance' 'crossover,hatchback'\n",
      " 'hybrid' 'luxury,performance,hybrid'\n",
      " 'crossover,luxury,performance,hybrid' 'crossover,luxury,performance'\n",
      " 'exotic,factory_tuner,luxury,high-performance'\n",
      " 'flex_fuel,luxury,high-performance' 'crossover,flex_fuel' 'diesel'\n",
      " 'hatchback,diesel' 'crossover,luxury,diesel'\n",
      " 'crossover,luxury,high-performance'\n",
      " 'exotic,flex_fuel,factory_tuner,luxury,high-performance'\n",
      " 'exotic,flex_fuel,luxury,high-performance'\n",
      " 'exotic,factory_tuner,luxury,performance' 'hatchback,hybrid'\n",
      " 'crossover,hybrid' 'hatchback,luxury,hybrid'\n",
      " 'flex_fuel,luxury,performance' 'crossover,performance' 'luxury,hybrid'\n",
      " 'crossover,flex_fuel,luxury,performance' 'crossover,flex_fuel,luxury'\n",
      " 'crossover,flex_fuel,performance'\n",
      " 'hatchback,factory_tuner,high-performance' 'hatchback,flex_fuel'\n",
      " 'factory_tuner,luxury' 'crossover,factory_tuner,luxury,high-performance'\n",
      " 'crossover,factory_tuner,luxury,performance'\n",
      " 'crossover,hatchback,factory_tuner,performance'\n",
      " 'crossover,hatchback,performance' 'flex_fuel,hybrid'\n",
      " 'flex_fuel,performance,hybrid' 'crossover,exotic,luxury,high-performance'\n",
      " 'crossover,exotic,luxury,performance' 'exotic,performance'\n",
      " 'exotic,luxury,high-performance,hybrid' 'crossover,luxury,hybrid'\n",
      " 'flex_fuel,factory_tuner,luxury,high-performance' 'performance,hybrid'\n",
      " 'crossover,factory_tuner,performance' 'crossover,diesel'\n",
      " 'flex_fuel,diesel' 'crossover,hatchback,luxury']\n",
      "71\n",
      "\n",
      "vehicle_size\n",
      "['compact' 'midsize' 'large']\n",
      "3\n",
      "\n",
      "vehicle_style\n",
      "['coupe' 'convertible' 'sedan' 'wagon' '4dr_hatchback' '2dr_hatchback'\n",
      " '4dr_suv' 'passenger_minivan' 'cargo_minivan' 'crew_cab_pickup'\n",
      " 'regular_cab_pickup' 'extended_cab_pickup' '2dr_suv' 'cargo_van'\n",
      " 'convertible_suv' 'passenger_van']\n",
      "16\n",
      "\n",
      "highway_mpg\n",
      "[ 26  28  27  25  24  20  21  22  35  34  31  30  32  33  23  36  29  45\n",
      "  43  40  42  19  18  17  15  37  39  41  16  14  38 108 103  12 354  47\n",
      "  46  82 110  44  13 105  99 102 111 106  48 101  90  97  94  98 100 107\n",
      "  53  50  74  92 109]\n",
      "59\n",
      "\n",
      "city_mpg\n",
      "[ 19  20  18  17  16  26  23  22  21  24  15  25  29  28  32  31  30  14\n",
      "  10  27  12  13   9  11 122 121   8  50  49  47  35  33  40  85 128  42\n",
      "  43  36  44 126   7  34 132 110 137 129  39  41 124  37  88  94  86 101\n",
      "  95  89 102  98  92  97  91  53  55  51  54  58  78  38 120]\n",
      "69\n",
      "\n",
      "popularity\n",
      "[3916 3105  819  617 1013 2009  870  586  436 2774  113 2031  416   67\n",
      "  210 1715  376  549 1439  535 2202   26  481 5657 1624 1720  520 1385\n",
      " 1851 1158   61  640  873    2  155  204   86  238  454  259  258  613\n",
      "  190  105   21  130 1391  820]\n",
      "48\n",
      "\n",
      "msrp\n",
      "[46135 40650 36350 ... 46120 50620 50920]\n",
      "6049\n",
      "\n"
     ]
    }
   ],
   "source": [
    "for col in df.columns:\n",
    "    print(col)\n",
    "    print(df[col].unique()) \n",
    "    print(df[col].nunique()) # see how many unique values there actually are per column\n",
    "    print()"
   ]
  },
  {
   "cell_type": "code",
   "execution_count": 228,
   "id": "615b3173",
   "metadata": {},
   "outputs": [],
   "source": [
    "#now we visualize it\n",
    "\n",
    "import matplotlib.pyplot as plt\n",
    "import seaborn as sns\n",
    "\n",
    "%matplotlib inline\n"
   ]
  },
  {
   "cell_type": "code",
   "execution_count": 229,
   "id": "b2456800",
   "metadata": {},
   "outputs": [
    {
     "data": {
      "text/plain": [
       "<Axes: xlabel='msrp', ylabel='Count'>"
      ]
     },
     "execution_count": 229,
     "metadata": {},
     "output_type": "execute_result"
    },
    {
     "data": {
      "image/png": "[encoded data removed]",
      "text/plain": [
       "<Figure size 640x480 with 1 Axes>"
      ]
     },
     "metadata": {},
     "output_type": "display_data"
    }
   ],
   "source": [
    "#lets see the price distribution\n",
    "#bins is the width of each bar\n",
    "sns.histplot(df.msrp[df.msrp < 100000], bins = 50)\n",
    "\n",
    "# we can see msot cars are cheap but there are a few ars are up to the millions.\n",
    "# this is the long tail distribution, by butting the requirement of < 100k we remove the long tail"
   ]
  },
  {
   "cell_type": "code",
   "execution_count": 230,
   "id": "5a154471",
   "metadata": {},
   "outputs": [
    {
     "data": {
      "text/plain": [
       "<Axes: xlabel='msrp', ylabel='Count'>"
      ]
     },
     "execution_count": 230,
     "metadata": {},
     "output_type": "execute_result"
    },
    {
     "data": {
      "image/png": "[encoded data removed]",
      "text/plain": [
       "<Figure size 640x480 with 1 Axes>"
      ]
     },
     "metadata": {},
     "output_type": "display_data"
    }
   ],
   "source": [
    "# lets get rid of this long tail, with the log distribution. \n",
    "\n",
    "np.log([1, 10, 1000, 100000]) \n",
    "# you can see it brings high values and bring it lower\n",
    "# we cannot log 0\n",
    "#it is common to add one to each item in the list, insetad of log it is log1p\n",
    "\n",
    "np.log1p([1, 10, 1000, 100000]) \n",
    "\n",
    "#use this on the prices\n",
    "\n",
    "price_logs = np.log1p(df.msrp)\n",
    "sns.histplot(price_logs, bins = 50) #notice how the tail is gone. Now this is normal dist \n",
    "#models love normal distribution"
   ]
  },
  {
   "cell_type": "code",
   "execution_count": 231,
   "id": "54f60e22",
   "metadata": {},
   "outputs": [
    {
     "data": {
      "text/plain": [
       "make                    0\n",
       "model                   0\n",
       "year                    0\n",
       "engine_fuel_type        3\n",
       "engine_hp              69\n",
       "engine_cylinders       30\n",
       "transmission_type       0\n",
       "driven_wheels           0\n",
       "number_of_doors         6\n",
       "market_category      3742\n",
       "vehicle_size            0\n",
       "vehicle_style           0\n",
       "highway_mpg             0\n",
       "city_mpg                0\n",
       "popularity              0\n",
       "msrp                    0\n",
       "dtype: int64"
      ]
     },
     "execution_count": 231,
     "metadata": {},
     "output_type": "execute_result"
    }
   ],
   "source": [
    "# gettinf rid of missing values\n",
    "\n",
    "df.isnull().sum()"
   ]
  },
  {
   "cell_type": "markdown",
   "id": "826e04b4",
   "metadata": {},
   "source": [
    "# setting up validation framework to validate the model\n",
    "\n",
    "as mentioend before, we need to take our model to use some ata fro training, some for validatoin, and some for testing.\n",
    "\n",
    "lets do 60 20 20 split\n",
    "\n"
   ]
  },
  {
   "cell_type": "code",
   "execution_count": 238,
   "id": "d2730510",
   "metadata": {},
   "outputs": [],
   "source": [
    "n = len(df)\n",
    "\n",
    "n_val = int(n*0.2)\n",
    "n_test = int(n*0.2)\n",
    "n_train = n - n_val - n_test\n",
    "#this way there are no rounding erros and we use all the data"
   ]
  },
  {
   "cell_type": "code",
   "execution_count": 239,
   "id": "91a66a19",
   "metadata": {},
   "outputs": [],
   "source": [
    "# now lets decompose the df, we can use oloc\n",
    "\n",
    "\n",
    "df_train = df.iloc[:n_train]\n",
    "df_val = df.iloc[n_train:n_train + n_val]\n",
    "df_test = df.iloc[n_train+ n_val:]\n"
   ]
  },
  {
   "cell_type": "code",
   "execution_count": 240,
   "id": "77165cdc",
   "metadata": {},
   "outputs": [
    {
     "data": {
      "text/plain": [
       "(7150, 2382, 2382)"
      ]
     },
     "execution_count": 240,
     "metadata": {},
     "output_type": "execute_result"
    }
   ],
   "source": [
    "# we need to shuffle the records so it distributes evenly\n",
    "# here is how we do it\n",
    "\n",
    "idx = np.arange(n)\n",
    "np.random.seed(2) # so that it is reproducable\n",
    "np.random.shuffle(idx)\n",
    "\n",
    "\n",
    "df_train = df.iloc[idx[:n_train]]\n",
    "df_val = df.iloc[idx[n_train:n_train + n_val]]\n",
    "df_test = df.iloc[idx[n_train+ n_val:]]\n",
    "\n",
    "#now we are getting it through the index instad of directly using the iloc\n",
    "\n",
    "\n",
    "# check to make sure the numbers are right\n",
    "len(df_train), len(df_val), len(df_test)"
   ]
  },
  {
   "cell_type": "code",
   "execution_count": 241,
   "id": "109fcd94",
   "metadata": {},
   "outputs": [],
   "source": [
    "# now we reset the index column \n",
    "\n",
    "\n",
    "df_train = df_train.reset_index(drop=True)\n",
    "df_val = df_val.reset_index(drop=True)\n",
    "df_test = df_test = df_train.reset_index(drop=True)\n"
   ]
  },
  {
   "cell_type": "code",
   "execution_count": 242,
   "id": "bb624323",
   "metadata": {},
   "outputs": [],
   "source": [
    "# getting the target variables (y)\n",
    "\n",
    "df\n",
    "y_train = np.log1p(df_train.msrp.values)\n",
    "y_val = np.log1p(df_val.msrp.values)\n",
    "y_test = np.log1p(df_test.msrp.values)\n"
   ]
  },
  {
   "cell_type": "code",
   "execution_count": 243,
   "id": "3793a086",
   "metadata": {},
   "outputs": [],
   "source": [
    "\n",
    "# remove the values from original df\n",
    "\n",
    "del df_train['msrp']\n",
    "del df_val['msrp']\n",
    "del df_test['msrp']"
   ]
  },
  {
   "cell_type": "markdown",
   "id": "62ce5b2d",
   "metadata": {},
   "source": [
    "# Training with linaer regression\n",
    "\n",
    "we have learned the theory and now we actually have to train it\n",
    "\n",
    "in linear regression we predict y using g(X) = Xw, and ideally we want Xw  = y but this is often impossible\n",
    "\n",
    "<br>\n",
    "\n",
    "To solve this, we use the **normal equation**:\n",
    "\n",
    "$$\n",
    "X^T X w = X^T y\n",
    "$$\n",
    "\n",
    "$X^T X$ (the Gram matrix) is square, so we can invert it.\n",
    "\n",
    "Solving for $w$ gives:\n",
    "\n",
    "$$\n",
    "w = (X^T X)^{-1} X^T y\n",
    "$$\n",
    "\n",
    "This $w$ is the best approximation for minimizing the difference between $Xw$ and $y$.\n",
    "\n",
    "**Implementation task:** write `train_linear_regression(X, y)` to compute and return $w$.\n"
   ]
  },
  {
   "cell_type": "code",
   "execution_count": 245,
   "id": "76764c89",
   "metadata": {},
   "outputs": [],
   "source": [
    "X = [\n",
    "    [148, 24, 1385],\n",
    "    [132, 25, 2031],\n",
    "    [453, 11, 86],\n",
    "    [158, 24, 185],\n",
    "    [172, 25, 201],\n",
    "    [413, 11, 86],\n",
    "    [38, 54, 185],\n",
    "    [142, 25, 431],\n",
    "    [453, 31, 86],\n",
    "]\n",
    "\n",
    "y = [10000, 20000, 15000, 20050, 10000, 20000 , 15000, 25000, 12000]\n",
    "\n",
    "X = np.array(X)\n",
    "\n",
    "\n",
    "#add the ones for the intercept\n",
    "\n",
    "ones = np.ones(X.shape[0])\n",
    "\n",
    "X = np.column_stack([ones, X])"
   ]
  },
  {
   "cell_type": "code",
   "execution_count": 215,
   "id": "aa3f0b42",
   "metadata": {},
   "outputs": [],
   "source": [
    "# now we make xtx\n",
    "\n",
    "XTX = X.T.dot(X)\n",
    "\n",
    "XTX_inv = np.linalg.inv(XTX)"
   ]
  },
  {
   "cell_type": "code",
   "execution_count": 246,
   "id": "410292b7",
   "metadata": {},
   "outputs": [],
   "source": [
    "#now we get the w\n",
    "\n",
    "w_full = XTX_inv.dot(X.T).dot(y)\n",
    "\n",
    "w0 = w_full[0]\n",
    "w =  w_full[1:]"
   ]
  },
  {
   "cell_type": "code",
   "execution_count": 247,
   "id": "e34bd543",
   "metadata": {},
   "outputs": [
    {
     "data": {
      "text/plain": [
       "(np.float64(25844.754055766753),\n",
       " array([ -16.08906468, -199.47254894,   -1.22802883]))"
      ]
     },
     "execution_count": 247,
     "metadata": {},
     "output_type": "execute_result"
    }
   ],
   "source": [
    "w0, w"
   ]
  },
  {
   "cell_type": "code",
   "execution_count": 250,
   "id": "77a44fdb",
   "metadata": {},
   "outputs": [],
   "source": [
    "#now we put it ina function\n",
    "\n",
    "def train_linear_regression(X, y):\n",
    "    ones = np.ones(X.shape[0])\n",
    "    X = np.column_stack([ones, X])\n",
    "    \n",
    "    XTX = X.T.dot(X)\n",
    "    XTX_inv = np.linalg.inv(XTX) \n",
    "    w_full = XTX_inv.dot(X.T).dot(y)\n",
    "    \n",
    "    return w_full[0], w_full[1:]\n"
   ]
  },
  {
   "cell_type": "code",
   "execution_count": 251,
   "id": "e199b522",
   "metadata": {},
   "outputs": [
    {
     "ename": "LinAlgError",
     "evalue": "Singular matrix",
     "output_type": "error",
     "traceback": [
      "\u001b[31m---------------------------------------------------------------------------\u001b[39m",
      "\u001b[31mLinAlgError\u001b[39m                               Traceback (most recent call last)",
      "\u001b[36mCell\u001b[39m\u001b[36m \u001b[39m\u001b[32mIn[251]\u001b[39m\u001b[32m, line 1\u001b[39m\n\u001b[32m----> \u001b[39m\u001b[32m1\u001b[39m \u001b[43mtrain_linear_regression\u001b[49m\u001b[43m(\u001b[49m\u001b[43mX\u001b[49m\u001b[43m,\u001b[49m\u001b[43m \u001b[49m\u001b[43my\u001b[49m\u001b[43m)\u001b[49m\n",
      "\u001b[36mCell\u001b[39m\u001b[36m \u001b[39m\u001b[32mIn[250]\u001b[39m\u001b[32m, line 8\u001b[39m, in \u001b[36mtrain_linear_regression\u001b[39m\u001b[34m(X, y)\u001b[39m\n\u001b[32m      5\u001b[39m X = np.column_stack([ones, X])\n\u001b[32m      7\u001b[39m XTX = X.T.dot(X)\n\u001b[32m----> \u001b[39m\u001b[32m8\u001b[39m XTX_inv = \u001b[43mnp\u001b[49m\u001b[43m.\u001b[49m\u001b[43mlinalg\u001b[49m\u001b[43m.\u001b[49m\u001b[43minv\u001b[49m\u001b[43m(\u001b[49m\u001b[43mXTX\u001b[49m\u001b[43m)\u001b[49m \n\u001b[32m      9\u001b[39m w_full = XTX_inv.dot(X.T).dot(y)\n\u001b[32m     11\u001b[39m \u001b[38;5;28;01mreturn\u001b[39;00m w_full[\u001b[32m0\u001b[39m], w_full[\u001b[32m1\u001b[39m:]\n",
      "\u001b[36mFile \u001b[39m\u001b[32mc:\\Users\\danie\\files\\repos\\leaning-in-public\\notes\\mlZoomCamp\\.venv\\Lib\\site-packages\\numpy\\linalg\\_linalg.py:669\u001b[39m, in \u001b[36minv\u001b[39m\u001b[34m(a)\u001b[39m\n\u001b[32m    666\u001b[39m signature = \u001b[33m'\u001b[39m\u001b[33mD->D\u001b[39m\u001b[33m'\u001b[39m \u001b[38;5;28;01mif\u001b[39;00m isComplexType(t) \u001b[38;5;28;01melse\u001b[39;00m \u001b[33m'\u001b[39m\u001b[33md->d\u001b[39m\u001b[33m'\u001b[39m\n\u001b[32m    667\u001b[39m \u001b[38;5;28;01mwith\u001b[39;00m errstate(call=_raise_linalgerror_singular, invalid=\u001b[33m'\u001b[39m\u001b[33mcall\u001b[39m\u001b[33m'\u001b[39m,\n\u001b[32m    668\u001b[39m               over=\u001b[33m'\u001b[39m\u001b[33mignore\u001b[39m\u001b[33m'\u001b[39m, divide=\u001b[33m'\u001b[39m\u001b[33mignore\u001b[39m\u001b[33m'\u001b[39m, under=\u001b[33m'\u001b[39m\u001b[33mignore\u001b[39m\u001b[33m'\u001b[39m):\n\u001b[32m--> \u001b[39m\u001b[32m669\u001b[39m     ainv = \u001b[43m_umath_linalg\u001b[49m\u001b[43m.\u001b[49m\u001b[43minv\u001b[49m\u001b[43m(\u001b[49m\u001b[43ma\u001b[49m\u001b[43m,\u001b[49m\u001b[43m \u001b[49m\u001b[43msignature\u001b[49m\u001b[43m=\u001b[49m\u001b[43msignature\u001b[49m\u001b[43m)\u001b[49m\n\u001b[32m    670\u001b[39m \u001b[38;5;28;01mreturn\u001b[39;00m wrap(ainv.astype(result_t, copy=\u001b[38;5;28;01mFalse\u001b[39;00m))\n",
      "\u001b[36mFile \u001b[39m\u001b[32mc:\\Users\\danie\\files\\repos\\leaning-in-public\\notes\\mlZoomCamp\\.venv\\Lib\\site-packages\\numpy\\linalg\\_linalg.py:163\u001b[39m, in \u001b[36m_raise_linalgerror_singular\u001b[39m\u001b[34m(err, flag)\u001b[39m\n\u001b[32m    162\u001b[39m \u001b[38;5;28;01mdef\u001b[39;00m\u001b[38;5;250m \u001b[39m\u001b[34m_raise_linalgerror_singular\u001b[39m(err, flag):\n\u001b[32m--> \u001b[39m\u001b[32m163\u001b[39m     \u001b[38;5;28;01mraise\u001b[39;00m LinAlgError(\u001b[33m\"\u001b[39m\u001b[33mSingular matrix\u001b[39m\u001b[33m\"\u001b[39m)\n",
      "\u001b[31mLinAlgError\u001b[39m: Singular matrix"
     ]
    }
   ],
   "source": [
    "train_linear_regression(X, y)"
   ]
  },
  {
   "cell_type": "markdown",
   "id": "97db7ae7",
   "metadata": {},
   "source": [
    "# Car price baseline model\n",
    "\n",
    "now that we made it, lets use it on the data"
   ]
  },
  {
   "cell_type": "code",
   "execution_count": 252,
   "id": "518a464c",
   "metadata": {},
   "outputs": [
    {
     "data": {
      "text/plain": [
       "make                  object\n",
       "model                 object\n",
       "year                   int64\n",
       "engine_fuel_type      object\n",
       "engine_hp            float64\n",
       "engine_cylinders     float64\n",
       "transmission_type     object\n",
       "driven_wheels         object\n",
       "number_of_doors      float64\n",
       "market_category       object\n",
       "vehicle_size          object\n",
       "vehicle_style         object\n",
       "highway_mpg            int64\n",
       "city_mpg               int64\n",
       "popularity             int64\n",
       "dtype: object"
      ]
     },
     "execution_count": 252,
     "metadata": {},
     "output_type": "execute_result"
    }
   ],
   "source": [
    "df_train.dtypes\n",
    "\n",
    "#we will only use the number colums as the features"
   ]
  },
  {
   "cell_type": "code",
   "execution_count": 253,
   "id": "fee6eafd",
   "metadata": {},
   "outputs": [
    {
     "data": {
      "text/html": [
       "<div>\n",
       "<style scoped>\n",
       "    .dataframe tbody tr th:only-of-type {\n",
       "        vertical-align: middle;\n",
       "    }\n",
       "\n",
       "    .dataframe tbody tr th {\n",
       "        vertical-align: top;\n",
       "    }\n",
       "\n",
       "    .dataframe thead th {\n",
       "        text-align: right;\n",
       "    }\n",
       "</style>\n",
       "<table border=\"1\" class=\"dataframe\">\n",
       "  <thead>\n",
       "    <tr style=\"text-align: right;\">\n",
       "      <th></th>\n",
       "      <th>engine_hp</th>\n",
       "      <th>engine_cylinders</th>\n",
       "      <th>highway_mpg</th>\n",
       "      <th>city_mpg</th>\n",
       "      <th>popularity</th>\n",
       "    </tr>\n",
       "  </thead>\n",
       "  <tbody>\n",
       "    <tr>\n",
       "      <th>0</th>\n",
       "      <td>148.0</td>\n",
       "      <td>4.0</td>\n",
       "      <td>33</td>\n",
       "      <td>24</td>\n",
       "      <td>1385</td>\n",
       "    </tr>\n",
       "    <tr>\n",
       "      <th>1</th>\n",
       "      <td>132.0</td>\n",
       "      <td>4.0</td>\n",
       "      <td>32</td>\n",
       "      <td>25</td>\n",
       "      <td>2031</td>\n",
       "    </tr>\n",
       "    <tr>\n",
       "      <th>2</th>\n",
       "      <td>148.0</td>\n",
       "      <td>4.0</td>\n",
       "      <td>37</td>\n",
       "      <td>28</td>\n",
       "      <td>640</td>\n",
       "    </tr>\n",
       "    <tr>\n",
       "      <th>3</th>\n",
       "      <td>90.0</td>\n",
       "      <td>4.0</td>\n",
       "      <td>18</td>\n",
       "      <td>16</td>\n",
       "      <td>873</td>\n",
       "    </tr>\n",
       "    <tr>\n",
       "      <th>4</th>\n",
       "      <td>385.0</td>\n",
       "      <td>8.0</td>\n",
       "      <td>21</td>\n",
       "      <td>15</td>\n",
       "      <td>5657</td>\n",
       "    </tr>\n",
       "    <tr>\n",
       "      <th>...</th>\n",
       "      <td>...</td>\n",
       "      <td>...</td>\n",
       "      <td>...</td>\n",
       "      <td>...</td>\n",
       "      <td>...</td>\n",
       "    </tr>\n",
       "    <tr>\n",
       "      <th>7145</th>\n",
       "      <td>300.0</td>\n",
       "      <td>6.0</td>\n",
       "      <td>31</td>\n",
       "      <td>20</td>\n",
       "      <td>3916</td>\n",
       "    </tr>\n",
       "    <tr>\n",
       "      <th>7146</th>\n",
       "      <td>210.0</td>\n",
       "      <td>4.0</td>\n",
       "      <td>30</td>\n",
       "      <td>24</td>\n",
       "      <td>873</td>\n",
       "    </tr>\n",
       "    <tr>\n",
       "      <th>7147</th>\n",
       "      <td>285.0</td>\n",
       "      <td>6.0</td>\n",
       "      <td>22</td>\n",
       "      <td>17</td>\n",
       "      <td>549</td>\n",
       "    </tr>\n",
       "    <tr>\n",
       "      <th>7148</th>\n",
       "      <td>563.0</td>\n",
       "      <td>12.0</td>\n",
       "      <td>21</td>\n",
       "      <td>13</td>\n",
       "      <td>86</td>\n",
       "    </tr>\n",
       "    <tr>\n",
       "      <th>7149</th>\n",
       "      <td>200.0</td>\n",
       "      <td>4.0</td>\n",
       "      <td>31</td>\n",
       "      <td>22</td>\n",
       "      <td>873</td>\n",
       "    </tr>\n",
       "  </tbody>\n",
       "</table>\n",
       "<p>7150 rows × 5 columns</p>\n",
       "</div>"
      ],
      "text/plain": [
       "      engine_hp  engine_cylinders  highway_mpg  city_mpg  popularity\n",
       "0         148.0               4.0           33        24        1385\n",
       "1         132.0               4.0           32        25        2031\n",
       "2         148.0               4.0           37        28         640\n",
       "3          90.0               4.0           18        16         873\n",
       "4         385.0               8.0           21        15        5657\n",
       "...         ...               ...          ...       ...         ...\n",
       "7145      300.0               6.0           31        20        3916\n",
       "7146      210.0               4.0           30        24         873\n",
       "7147      285.0               6.0           22        17         549\n",
       "7148      563.0              12.0           21        13          86\n",
       "7149      200.0               4.0           31        22         873\n",
       "\n",
       "[7150 rows x 5 columns]"
      ]
     },
     "execution_count": 253,
     "metadata": {},
     "output_type": "execute_result"
    }
   ],
   "source": [
    "base = ['engine_hp','engine_cylinders', 'highway_mpg', 'city_mpg',  'popularity']\n",
    "\n",
    "df_train[base]"
   ]
  },
  {
   "cell_type": "code",
   "execution_count": 260,
   "id": "4f290d80",
   "metadata": {},
   "outputs": [
    {
     "data": {
      "text/plain": [
       "engine_hp           0\n",
       "engine_cylinders    0\n",
       "highway_mpg         0\n",
       "city_mpg            0\n",
       "popularity          0\n",
       "dtype: int64"
      ]
     },
     "execution_count": 260,
     "metadata": {},
     "output_type": "execute_result"
    }
   ],
   "source": [
    "#now we extract the numbers into our matrix\n",
    "\n",
    "X_train = df_train[base].fillna(0).values\n",
    "\n",
    "\n",
    "df_train[base].fillna(0).isnull().sum()\n"
   ]
  },
  {
   "cell_type": "code",
   "execution_count": 261,
   "id": "e5659bb7",
   "metadata": {},
   "outputs": [
    {
     "data": {
      "text/plain": [
       "np.float64(7.927257388069986)"
      ]
     },
     "execution_count": 261,
     "metadata": {},
     "output_type": "execute_result"
    }
   ],
   "source": [
    "w0, w = train_linear_regression(X_train, y_train)\n",
    "\n",
    "# now we can make predictions with these wights\n",
    "\n",
    "w0\n"
   ]
  },
  {
   "cell_type": "code",
   "execution_count": 263,
   "id": "217a578e",
   "metadata": {},
   "outputs": [
    {
     "data": {
      "text/plain": [
       "array([ 9.54792783,  9.38733977,  9.67197758, ..., 10.30423015,\n",
       "       11.9778914 ,  9.99863111], shape=(7150,))"
      ]
     },
     "execution_count": 263,
     "metadata": {},
     "output_type": "execute_result"
    }
   ],
   "source": [
    "y_pred = w0 + X_train.dot(w)\n",
    "\n",
    "y_pred\n"
   ]
  },
  {
   "cell_type": "code",
   "execution_count": 264,
   "id": "2a0127ae",
   "metadata": {},
   "outputs": [
    {
     "data": {
      "text/plain": [
       "<Axes: ylabel='Count'>"
      ]
     },
     "execution_count": 264,
     "metadata": {},
     "output_type": "execute_result"
    },
    {
     "data": {
      "image/png": "[encoded data removed]",
      "text/plain": [
       "<Figure size 640x480 with 1 Axes>"
      ]
     },
     "metadata": {},
     "output_type": "display_data"
    }
   ],
   "source": [
    "\n",
    "sns.histplot(y_pred, color='red', alpha = 0.5, bins = 50)\n",
    "sns.histplot(y_train, color='blue', alpha = 0.5, bins = 50)"
   ]
  },
  {
   "cell_type": "markdown",
   "id": "c79bcf45",
   "metadata": {},
   "source": [
    "# RMSE \n",
    "\n",
    "Smaller is better\n",
    "\n",
    "Root mean square error, a good way to see the performance of your models\n",
    "\n",
    "this is the average of the difference bewteen each prediction and the actual value squared, so we sum (g(Xi) and yi)^2 and divide by the number\n",
    "\n",
    "\n",
    "The Root Mean Squared Error (RMSE) is:\n",
    "\n",
    "$$\n",
    "\\text{RMSE} = \\sqrt{\\frac{1}{n} \\sum_{i=1}^{n} (y_i - \\hat{y}_i)^2}\n",
    "$$\n",
    "\n",
    "**Where:**  \n",
    "\n",
    "\\[\n",
    "\\begin{aligned}\n",
    "n & : \\text{number of observations} \\\\\n",
    "y_i & : \\text{actual value for observation } i \\\\\n",
    "\\hat{y}_i & : \\text{predicted value for observation } i\n",
    "\\end{aligned}\n",
    "\\]\n"
   ]
  },
  {
   "cell_type": "code",
   "execution_count": 265,
   "id": "d374ff30",
   "metadata": {},
   "outputs": [],
   "source": [
    "#python implementation\n",
    "\n",
    "def rmse(y, y_pred):\n",
    "    error = y-y_pred\n",
    "    se = error ** 2 # squared error\n",
    "    mse = se.mean() # mean error\n",
    "    return np.sqrt(mse)"
   ]
  },
  {
   "cell_type": "code",
   "execution_count": 266,
   "id": "a648a7df",
   "metadata": {},
   "outputs": [
    {
     "data": {
      "text/plain": [
       "np.float64(0.7554192603920132)"
      ]
     },
     "execution_count": 266,
     "metadata": {},
     "output_type": "execute_result"
    }
   ],
   "source": [
    "rmse(y_train, y_pred)"
   ]
  },
  {
   "cell_type": "markdown",
   "id": "42c7e7b8",
   "metadata": {},
   "source": [
    "# validating the model\n",
    "we used RMSE on the training dta, but we should actually use it on the validation data set"
   ]
  },
  {
   "cell_type": "code",
   "execution_count": 267,
   "id": "ecf6c4dd",
   "metadata": {},
   "outputs": [],
   "source": [
    "base = ['engine_hp','engine_cylinders', 'highway_mpg', 'city_mpg',  'popularity']\n",
    "\n",
    "X_train = df_train[base].fillna(0).values\n",
    "\n",
    "w0, w = train_linear_regression(X_train, y_train)\n",
    "y_pred = w0 + X_train.dot(w)"
   ]
  },
  {
   "cell_type": "code",
   "execution_count": 270,
   "id": "0186aed5",
   "metadata": {},
   "outputs": [],
   "source": [
    "# we copied the above code so we can extract the prepare algo to make a function so it is easier. Then we can use that on the validation data\n",
    "\n",
    "\n",
    "def prepare_X(df):\n",
    "    X = df[base].fillna(0).values\n",
    "    return X"
   ]
  },
  {
   "cell_type": "code",
   "execution_count": 271,
   "id": "57b3f768",
   "metadata": {},
   "outputs": [
    {
     "data": {
      "text/plain": [
       "np.float64(0.761653099130156)"
      ]
     },
     "execution_count": 271,
     "metadata": {},
     "output_type": "execute_result"
    }
   ],
   "source": [
    "#train the model again and test it with validation data\n",
    "\n",
    "X_train = prepare_X(df_train)\n",
    "w0, w = train_linear_regression(X_train, y_train)\n",
    "\n",
    "\n",
    "X_val = prepare_X(df_val)\n",
    "\n",
    "#now we apply the weights (model)\n",
    "y_pred = w0 + X_val.dot(w)\n",
    "\n",
    "rmse(y_val, y_pred)"
   ]
  },
  {
   "cell_type": "markdown",
   "id": "583523b9",
   "metadata": {},
   "source": [
    "# Feature engineering\n"
   ]
  },
  {
   "cell_type": "code",
   "execution_count": null,
   "id": "2d9b90d5",
   "metadata": {},
   "outputs": [],
   "source": [
    "#there is a year column that we should also use, abd to use this we can compute the age of the car and add that as a feature\n",
    "\n",
    "#df_train.year.max() returns 2017\n",
    "\n",
    "#so we do this to modify the prepare function. note that we defer it so we dont change the actual df\n",
    "\n",
    "def prepare_X(df):\n",
    "    \n",
    "    df = df.copy()\n",
    "    df['age'] = 2017-df.year\n",
    "    features = base + ['age']\n",
    "    X = df[features].fillna(0).values\n",
    "    return X"
   ]
  },
  {
   "cell_type": "code",
   "execution_count": null,
   "id": "3deefdce",
   "metadata": {},
   "outputs": [
    {
     "data": {
      "text/plain": [
       "np.float64(0.5172055461058299)"
      ]
     },
     "execution_count": 278,
     "metadata": {},
     "output_type": "execute_result"
    }
   ],
   "source": [
    "X_train = prepare_X(df_train)\n",
    "\n",
    "#now after prep we can do the whole thing again\n",
    "\n",
    "w0, w = train_linear_regression(X_train, y_train)\n",
    "\n",
    "\n",
    "X_val = prepare_X(df_val)\n",
    "\n",
    "#now we apply the weights (model)\n",
    "y_pred = w0 + X_val.dot(w)\n",
    "\n",
    "rmse(y_val, y_pred)\n",
    "\n",
    "#we see that the number is smaller so the model improved"
   ]
  },
  {
   "cell_type": "code",
   "execution_count": 279,
   "id": "61c494ee",
   "metadata": {},
   "outputs": [
    {
     "data": {
      "text/plain": [
       "<Axes: ylabel='Count'>"
      ]
     },
     "execution_count": 279,
     "metadata": {},
     "output_type": "execute_result"
    },
    {
     "data": {
      "image/png": "[encoded data removed]",
      "text/plain": [
       "<Figure size 640x480 with 1 Axes>"
      ]
     },
     "metadata": {},
     "output_type": "display_data"
    }
   ],
   "source": [
    "sns.histplot(y_pred, color='red', alpha = 0.5, bins = 50)\n",
    "sns.histplot(y_val, color='blue', alpha = 0.5, bins = 50)"
   ]
  },
  {
   "cell_type": "markdown",
   "id": "9a295f6a",
   "metadata": {},
   "source": [
    "# Categorical Variables\n",
    "\n",
    "these are variables that are categories, type object. This based on the situation becuase in ou ase the number of doors is still categorical, not numerical.\n",
    "\n",
    "Typically we encode it by making it a bunch of binary. here is an example:\n",
    "\n",
    "we have 2, 3, 4 door numbers, so what we do is we make 3 columns\n",
    "- each door count is a column\n",
    "- and 2 door cars has 1 in the 2 door column and 0 for the other columns, same for everything else"
   ]
  },
  {
   "cell_type": "code",
   "execution_count": 281,
   "id": "f4412061",
   "metadata": {},
   "outputs": [],
   "source": [
    "# lets implement this here\n",
    "\n",
    "\n",
    "for v in [2, 3, 4]:\n",
    "    df_train['num_doors_%s' % v] = (df_train.number_of_doors == v).astype('int')"
   ]
  },
  {
   "cell_type": "code",
   "execution_count": 303,
   "id": "4d9c42bc",
   "metadata": {},
   "outputs": [],
   "source": [
    "#lets modify our prepare x function yet again to get this \n",
    "\n",
    "def prepare_X(df):\n",
    "    \n",
    "    df = df.copy()\n",
    "    df['age'] = 2017-df.year\n",
    "    features = base.copy()\n",
    "    features.append('age') \n",
    "    \n",
    "    for v in [2, 3, 4]:\n",
    "        df['num_doors_%s' % v] = (df.number_of_doors == v).astype('int')\n",
    "        features.append('num_doors_%s' % v)\n",
    "    \n",
    "    \n",
    "    X = df[features].fillna(0).values\n",
    "    return X"
   ]
  },
  {
   "cell_type": "code",
   "execution_count": 304,
   "id": "5bad17fb",
   "metadata": {},
   "outputs": [
    {
     "data": {
      "text/plain": [
       "np.float64(0.515799564150169)"
      ]
     },
     "execution_count": 304,
     "metadata": {},
     "output_type": "execute_result"
    }
   ],
   "source": [
    "#now lets train again and compare the results\n",
    "\n",
    "X_train = prepare_X(df_train)\n",
    "w0, w = train_linear_regression(X_train, y_train)\n",
    "X_val = prepare_X(df_val)\n",
    "y_pred = w0 + X_val.dot(w)\n",
    "rmse(y_val, y_pred)\n",
    "\n"
   ]
  },
  {
   "cell_type": "code",
   "execution_count": 307,
   "id": "4e9ae89e",
   "metadata": {},
   "outputs": [],
   "source": [
    "#lets now also add the top 5 car makes to make it better, more accurate\n",
    "\n",
    "# same principle as before\n",
    "\n",
    "makes = list(df.make.value_counts().head().index)\n",
    "\n",
    "\n",
    "def prepare_X(df):\n",
    "    \n",
    "    df = df.copy()\n",
    "    df['age'] = 2017-df.year\n",
    "    features = base.copy()\n",
    "    features.append('age') \n",
    "    \n",
    "    for v in [2, 3, 4]:\n",
    "        df['num_doors_%s' % v] = (df.number_of_doors == v).astype('int')\n",
    "        features.append('num_doors_%s' % v)\n",
    "        \n",
    "    for v in makes:\n",
    "        df['makes%s' % v] = (df.make == v).astype('int')\n",
    "        features.append('makes%s' % v)\n",
    "    \n",
    "    \n",
    "    X = df[features].fillna(0).values\n",
    "    return X"
   ]
  },
  {
   "cell_type": "code",
   "execution_count": null,
   "id": "4de09b64",
   "metadata": {},
   "outputs": [
    {
     "data": {
      "text/plain": [
       "np.float64(0.5076038849556795)"
      ]
     },
     "execution_count": 308,
     "metadata": {},
     "output_type": "execute_result"
    }
   ],
   "source": [
    "X_train = prepare_X(df_train)\n",
    "w0, w = train_linear_regression(X_train, y_train)\n",
    "X_val = prepare_X(df_val)\n",
    "y_pred = w0 + X_val.dot(w)\n",
    "rmse(y_val, y_pred)\n",
    "\n",
    "# we can see that the number got even smaller, which is nice"
   ]
  },
  {
   "cell_type": "code",
   "execution_count": 310,
   "id": "eed5c2ac",
   "metadata": {},
   "outputs": [
    {
     "data": {
      "text/plain": [
       "{'make': ['chevrolet', 'ford', 'volkswagen', 'toyota', 'dodge'],\n",
       " 'engine_fuel_type': ['regular_unleaded',\n",
       "  'premium_unleaded_(required)',\n",
       "  'premium_unleaded_(recommended)',\n",
       "  'flex-fuel_(unleaded/e85)',\n",
       "  'diesel'],\n",
       " 'transmission_type': ['automatic',\n",
       "  'manual',\n",
       "  'automated_manual',\n",
       "  'direct_drive',\n",
       "  'unknown'],\n",
       " 'driven_wheels': ['front_wheel_drive',\n",
       "  'rear_wheel_drive',\n",
       "  'all_wheel_drive',\n",
       "  'four_wheel_drive'],\n",
       " 'market_category': ['crossover',\n",
       "  'flex_fuel',\n",
       "  'luxury',\n",
       "  'luxury,performance',\n",
       "  'hatchback'],\n",
       " 'vehicle_size': ['compact', 'midsize', 'large'],\n",
       " 'vehicle_style': ['sedan',\n",
       "  '4dr_suv',\n",
       "  'coupe',\n",
       "  'convertible',\n",
       "  '4dr_hatchback']}"
      ]
     },
     "execution_count": 310,
     "metadata": {},
     "output_type": "execute_result"
    }
   ],
   "source": [
    "# now lets do this for other categories, like make, fiel type, transmission type, etc.\n",
    "cat = [\n",
    "    'make', 'engine_fuel_type', 'transmission_type', 'driven_wheels', 'market_category', 'vehicle_size', 'vehicle_style'\n",
    "    \n",
    "]\n",
    "\n",
    "categories = {}\n",
    "\n",
    "for c in cat:\n",
    "    categories[c] = list(df[c].value_counts().head().index)\n",
    "\n",
    "categories"
   ]
  },
  {
   "cell_type": "code",
   "execution_count": 315,
   "id": "7efaef63",
   "metadata": {},
   "outputs": [],
   "source": [
    "#modify the prepare again\n",
    "\n",
    "\n",
    "def prepare_X(df):\n",
    "    \n",
    "    df = df.copy()\n",
    "    df['age'] = 2017-df.year\n",
    "    features = base.copy()\n",
    "    features.append('age') \n",
    "    \n",
    "    for v in [2, 3, 4]:\n",
    "        df['num_doors_%s' % v] = (df.number_of_doors == v).astype('int')\n",
    "        features.append('num_doors_%s' % v)\n",
    "    \n",
    "        \n",
    "    for c, values in categories.items():\n",
    "        for v in values:\n",
    "            df['%s_%s' % (c, v)] = (df[c] == v).astype(int)\n",
    "            features.append('%s_%s' % (c, v))\n",
    "    \n",
    "    \n",
    "    X = df[features].fillna(0).values\n",
    "    return X\n",
    "\n"
   ]
  },
  {
   "cell_type": "code",
   "execution_count": null,
   "id": "2841c9f9",
   "metadata": {},
   "outputs": [
    {
     "data": {
      "text/plain": [
       "np.float64(23.019020704791835)"
      ]
     },
     "execution_count": 316,
     "metadata": {},
     "output_type": "execute_result"
    }
   ],
   "source": [
    "X_train = prepare_X(df_train)\n",
    "w0, w = train_linear_regression(X_train, y_train)\n",
    "X_val = prepare_X(df_val)\n",
    "y_pred = w0 + X_val.dot(w)\n",
    "rmse(y_val, y_pred)\n",
    "\n",
    "\n",
    "\n",
    "#the number is huge, somethign must have went wrong"
   ]
  },
  {
   "cell_type": "markdown",
   "id": "627c0d22",
   "metadata": {},
   "source": [
    "# Regularization\n",
    "\n",
    "so in our last time the weights are extremely high, why?\n",
    "\n",
    "If the feature matrix has duplicate columns (or columns that can be expressed as a linear combination of other columns), it will not have an inverse matrix. But, sometimes this error could be passed if certain values are slightly different between duplicated columns.\n",
    "\n",
    "So, if we apply the normal equation with this feature matrix, the values associated with duplicated columns are very large, which decreases the model performance. To solve this issue, one alternative is adding a small number to the diagonal of the feature matrix, which corresponds to regularization.\n",
    "\n",
    "This technique works because the addition of small values to the diagonal makes it less likely to have duplicated columns. The regularization value is a hyperparameter of the model. After applying regularization the model performance improved."
   ]
  },
  {
   "cell_type": "code",
   "execution_count": 319,
   "id": "4804357b",
   "metadata": {},
   "outputs": [
    {
     "data": {
      "text/plain": [
       "array([[-3.33333337e-01,  6.06060607e-01,  6.06060605e-02],\n",
       "       [ 6.06060598e-02, -9.09090913e+06,  9.09090910e+06],\n",
       "       [ 6.06060609e-01,  9.09090882e+06, -9.09090913e+06]])"
      ]
     },
     "execution_count": 319,
     "metadata": {},
     "output_type": "execute_result"
    }
   ],
   "source": [
    "\n",
    "#lets do this on a small example:\n",
    "\n",
    "XTX = [\n",
    "    [1,2,2], \n",
    "    [2,1,1.00000001],\n",
    "    [2,1.0000001,1]\n",
    "]\n",
    "\n",
    "np.linalg.inv(XTX)"
   ]
  },
  {
   "cell_type": "code",
   "execution_count": null,
   "id": "502a4fb4",
   "metadata": {},
   "outputs": [
    {
     "data": {
      "text/plain": [
       "array([[ -0.33567203,   0.33398689,   0.33401696],\n",
       "       [  0.33401696,  49.91916617, -50.08634166],\n",
       "       [  0.33398689, -50.08632661,  49.91916617]])"
      ]
     },
     "execution_count": 320,
     "metadata": {},
     "output_type": "execute_result"
    }
   ],
   "source": [
    "# if we add it to the diagnoal, it is less likely that one colis a duplicate of another, therefore we cansee that the weightws are a log more under control\n",
    "\n",
    "XTX = [\n",
    "    [1.001,2,2], \n",
    "    [2,1.01,1.0000001],\n",
    "    [2,1.000001,1.01]\n",
    "]\n",
    "\n",
    "np.linalg.inv(XTX)"
   ]
  },
  {
   "cell_type": "code",
   "execution_count": null,
   "id": "ec19766e",
   "metadata": {},
   "outputs": [
    {
     "data": {
      "text/plain": [
       "array([[1.01      , 2.        , 2.        ],\n",
       "       [2.        , 1.01      , 1.00000001],\n",
       "       [2.        , 1.0000001 , 1.01      ]])"
      ]
     },
     "execution_count": 322,
     "metadata": {},
     "output_type": "execute_result"
    }
   ],
   "source": [
    "# to implement this. we need to use the identity matrix\n",
    "\n",
    "XTX = [\n",
    "    [1,2,2], \n",
    "    [2,1,1.00000001],\n",
    "    [2,1.0000001,1]\n",
    "]\n",
    "\n",
    "XTX + (0.01 * np.eye(3))"
   ]
  },
  {
   "cell_type": "code",
   "execution_count": 323,
   "id": "90625091",
   "metadata": {},
   "outputs": [],
   "source": [
    "def train_linear_regression_regu(X, y, r = 0.001):\n",
    "    ones = np.ones(X.shape[0])\n",
    "    X = np.column_stack([ones, X])\n",
    "    \n",
    "    XTX = X.T.dot(X)\n",
    "    XTX = XTX + r * np.eye(XTX.shape[0])\n",
    "    XTX_inv = np.linalg.inv(XTX) \n",
    "    w_full = XTX_inv.dot(X.T).dot(y)\n",
    "    \n",
    "    return w_full[0], w_full[1:]"
   ]
  },
  {
   "cell_type": "code",
   "execution_count": null,
   "id": "0478127c",
   "metadata": {},
   "outputs": [
    {
     "data": {
      "text/plain": [
       "np.float64(0.45651750867781377)"
      ]
     },
     "execution_count": 324,
     "metadata": {},
     "output_type": "execute_result"
    }
   ],
   "source": [
    "X_train = prepare_X(df_train)\n",
    "w0, w = train_linear_regression(X_train, y_train)\n",
    "X_val = prepare_X(df_val)\n",
    "y_pred = w0 + X_val.dot(w)\n",
    "rmse(y_val, y_pred)\n",
    "\n",
    "\n",
    "#we can see the number is a lot better than the non regularized, it is also better than what we had before"
   ]
  },
  {
   "cell_type": "markdown",
   "id": "9f18d1b9",
   "metadata": {},
   "source": [
    "# Finding the best regularization parameter to tune the model\n"
   ]
  },
  {
   "cell_type": "code",
   "execution_count": 328,
   "id": "527c1b99",
   "metadata": {},
   "outputs": [
    {
     "name": "stdout",
     "output_type": "stream",
     "text": [
      "0.0 4011091003551887.0 23.019020704791835\n",
      "1e-05 6.178192055025445 0.45651702823445617\n",
      "1e-06 187.8839690767719 0.4565172637906094\n",
      "0.001 6.285636717989048 0.45651750867781377\n",
      "0.1 6.1912087238544915 0.4565692763007501\n",
      "1 5.634896668066369 0.45722043179930605\n",
      "10 4.283980108968471 0.4701456932099909\n"
     ]
    }
   ],
   "source": [
    "for r in [0.0,0.00001, 0.000001, 0.001, 0.1, 1, 10]:\n",
    "    X_train = prepare_X(df_train)\n",
    "    w0, w = train_linear_regression_regu(X_train, y_train, r = r)\n",
    "    X_val = prepare_X(df_val)\n",
    "    y_pred = w0 + X_val.dot(w)\n",
    "    print(r, w0, rmse(y_val, y_pred))\n",
    "\n",
    "\n",
    "#we can how even with a bit of regularization it improves, but then it kinda gets worse again as the regularization number goes up"
   ]
  },
  {
   "cell_type": "markdown",
   "id": "bb3ced35",
   "metadata": {},
   "source": [
    "# Using the model"
   ]
  },
  {
   "cell_type": "code",
   "execution_count": 332,
   "id": "05087017",
   "metadata": {},
   "outputs": [],
   "source": [
    "#train the final model using the entire data (train and validation) and then run it on the test dataset\n",
    "\n",
    "df_full_train = pd.concat([df_train, df_val])\n",
    "\n",
    "df_full_train.reset_index(drop = True)\n",
    "\n",
    "X_full_train = prepare_X(df_full_train)\n",
    "\n",
    "y_full_train = np.concatenate([y_train, y_val])\n",
    "\n",
    "\n",
    "w0, w = train_linear_regression_regu(X_full_train, y_full_train, r = 0.01)\n"
   ]
  },
  {
   "cell_type": "code",
   "execution_count": null,
   "id": "6449955f",
   "metadata": {},
   "outputs": [
    {
     "name": "stdout",
     "output_type": "stream",
     "text": [
      "10 6.314017129548202 0.46055823540819013\n"
     ]
    }
   ],
   "source": [
    "#now lets use the test dataset\n",
    "\n",
    "X_test = prepare_X(df_test)\n",
    "y_pred = w0 + X_test.dot(w)\n",
    "print(r, w0, rmse(y_test, y_pred))\n",
    "\n",
    "# good score, we did well"
   ]
  },
  {
   "cell_type": "code",
   "execution_count": 338,
   "id": "b89ac490",
   "metadata": {},
   "outputs": [],
   "source": [
    "# now lets test it by making a feature vector \n",
    "# we will get a random one from the test dataset and pretend it is a new object to test this data on\n",
    "car = df_test.iloc[20].to_dict()"
   ]
  },
  {
   "cell_type": "code",
   "execution_count": 339,
   "id": "e5e58118",
   "metadata": {},
   "outputs": [],
   "source": [
    "#we pretend we got a json and need to convert it to a df\n",
    "\n",
    "df_small = pd.DataFrame([car])\n",
    "\n",
    "X_small = prepare_X(df_small)"
   ]
  },
  {
   "cell_type": "code",
   "execution_count": null,
   "id": "f3a6a35d",
   "metadata": {},
   "outputs": [
    {
     "data": {
      "text/plain": [
       "array([37020.33267897])"
      ]
     },
     "execution_count": 341,
     "metadata": {},
     "output_type": "execute_result"
    }
   ],
   "source": [
    "#then we run the model\n",
    "\n",
    "y_pred = w0 + X_small.dot(w)\n",
    "np.expm1(y_pred) # we did log so we have to un log it"
   ]
  }
 ],
 "metadata": {
  "kernelspec": {
   "display_name": ".venv",
   "language": "python",
   "name": "python3"
  },
  "language_info": {
   "codemirror_mode": {
    "name": "ipython",
    "version": 3
   },
   "file_extension": ".py",
   "mimetype": "text/x-python",
   "name": "python",
   "nbconvert_exporter": "python",
   "pygments_lexer": "ipython3",
   "version": "3.12.1"
  }
 },
 "nbformat": 4,
 "nbformat_minor": 5
}
